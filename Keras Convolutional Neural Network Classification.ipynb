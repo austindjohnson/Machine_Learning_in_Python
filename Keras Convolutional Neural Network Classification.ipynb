{
 "cells": [
  {
   "cell_type": "markdown",
   "metadata": {},
   "source": [
    "# Keras CNN Classification"
   ]
  },
  {
   "cell_type": "markdown",
   "metadata": {},
   "source": [
    "This data set is made available by Joost Hazelzet (https://www.kaggle.com/joosthazelzet/lego-brick-images). It contains rendered images of 16 different types of Lego bricks. Image classification task: predict the category of the brick in the validation set. "
   ]
  },
  {
   "cell_type": "code",
   "execution_count": 1,
   "metadata": {},
   "outputs": [],
   "source": [
    "#from __future__ import print_function\n",
    "import tensorflow as tf\n",
    "import tensorflow.keras as keras\n",
    "\n",
    "import numpy as np\n",
    "from tensorflow.keras.preprocessing.image import ImageDataGenerator, DirectoryIterator\n",
    "from tensorflow.keras.models import Sequential\n",
    "from tensorflow.keras.layers import Dense, Dropout, Activation, Flatten\n",
    "from tensorflow.keras.layers import Conv2D, MaxPooling2D\n",
    "import os"
   ]
  },
  {
   "cell_type": "markdown",
   "metadata": {},
   "source": [
    "# Image Readers"
   ]
  },
  {
   "cell_type": "code",
   "execution_count": 36,
   "metadata": {},
   "outputs": [
    {
     "name": "stdout",
     "output_type": "stream",
     "text": [
      "Found 6379 images belonging to 16 classes.\n",
      "Found 1555 images belonging to 16 classes.\n"
     ]
    }
   ],
   "source": [
    "#Image Data Generator manipulates and \"augments\" images\n",
    "\n",
    "# Read Train Images\n",
    "train_datagen = ImageDataGenerator(rescale=1/255)\n",
    "\n",
    "#resize images to 96x96 pixels\n",
    "train_data = DirectoryIterator(\n",
    "    directory=\"LEGO/train\",\n",
    "    image_data_generator = train_datagen,\n",
    "    target_size=(96, 96),\n",
    "    color_mode=\"rgb\",\n",
    "    batch_size=32,\n",
    "    class_mode=\"categorical\",\n",
    "    shuffle=True,\n",
    "    seed=42)\n",
    "\n",
    "# Read Validate Images\n",
    "valid_datagen = ImageDataGenerator(rescale=1/255)\n",
    "\n",
    "valid_data = DirectoryIterator(\n",
    "    directory=\"LEGO/valid\",\n",
    "    image_data_generator = valid_datagen,\n",
    "    target_size=(96, 96),\n",
    "    color_mode=\"rgb\",\n",
    "    batch_size=32,\n",
    "    class_mode=\"categorical\",\n",
    "    shuffle=True,\n",
    "    seed=42)"
   ]
  },
  {
   "cell_type": "markdown",
   "metadata": {},
   "source": [
    "# Classification Model"
   ]
  },
  {
   "cell_type": "code",
   "execution_count": 37,
   "metadata": {},
   "outputs": [
    {
     "name": "stdout",
     "output_type": "stream",
     "text": [
      "Model: \"sequential_14\"\n",
      "_________________________________________________________________\n",
      "Layer (type)                 Output Shape              Param #   \n",
      "=================================================================\n",
      "conv2d_28 (Conv2D)           (None, 96, 96, 16)        448       \n",
      "_________________________________________________________________\n",
      "max_pooling2d_28 (MaxPooling (None, 48, 48, 16)        0         \n",
      "_________________________________________________________________\n",
      "dropout_42 (Dropout)         (None, 48, 48, 16)        0         \n",
      "_________________________________________________________________\n",
      "conv2d_29 (Conv2D)           (None, 46, 46, 32)        4640      \n",
      "_________________________________________________________________\n",
      "max_pooling2d_29 (MaxPooling (None, 23, 23, 32)        0         \n",
      "_________________________________________________________________\n",
      "dropout_43 (Dropout)         (None, 23, 23, 32)        0         \n",
      "_________________________________________________________________\n",
      "flatten_14 (Flatten)         (None, 16928)             0         \n",
      "_________________________________________________________________\n",
      "dense_28 (Dense)             (None, 128)               2166912   \n",
      "_________________________________________________________________\n",
      "dropout_44 (Dropout)         (None, 128)               0         \n",
      "_________________________________________________________________\n",
      "dense_29 (Dense)             (None, 16)                2064      \n",
      "=================================================================\n",
      "Total params: 2,174,064\n",
      "Trainable params: 2,174,064\n",
      "Non-trainable params: 0\n",
      "_________________________________________________________________\n"
     ]
    }
   ],
   "source": [
    "model = Sequential()\n",
    "\n",
    "# input layer\n",
    "model.add(Conv2D(16, (3, 3), padding='same', activation='relu', input_shape=(96,96,3)))\n",
    "\n",
    "# pooling and dropout layers\n",
    "model.add(MaxPooling2D(pool_size=(2, 2)))\n",
    "model.add(Dropout(rate=0.25))\n",
    "\n",
    "#convolutional layer\n",
    "model.add(Conv2D(32, (3, 3), activation='relu'))\n",
    "\n",
    "# pooling and dropout layers\n",
    "model.add(MaxPooling2D(pool_size=(2, 2)))\n",
    "model.add(Dropout(rate=0.25))\n",
    "\n",
    "# flatten  \n",
    "model.add(Flatten())\n",
    "\n",
    "# dense and dropout\n",
    "model.add(Dense(128, activation='relu'))\n",
    "model.add(Dropout(rate=0.5))\n",
    "\n",
    "# softmax activation for 16 classes\n",
    "model.add(Dense(16, activation='softmax'))\n",
    "\n",
    "model.summary()\n",
    "\n",
    "# RMSprop optimizer\n",
    "opt = tf.keras.optimizers.RMSprop(lr=0.01)\n",
    "\n",
    "# train the model using RMSprop optimizer\n",
    "model.compile(loss='categorical_crossentropy',\n",
    "              optimizer=opt,\n",
    "              metrics=['accuracy'])"
   ]
  },
  {
   "cell_type": "code",
   "execution_count": 64,
   "metadata": {},
   "outputs": [
    {
     "name": "stdout",
     "output_type": "stream",
     "text": [
      "Epoch 1/6\n",
      "100/100 [==============================] - ETA: 0s - loss: 0.4988 - accuracy: 0.8418WARNING:tensorflow:Your input ran out of data; interrupting training. Make sure that your dataset or generator can generate at least `steps_per_epoch * epochs` batches (in this case, 60 batches). You may need to use the repeat() function when building your dataset.\n",
      "100/100 [==============================] - 12s 120ms/step - loss: 0.4988 - accuracy: 0.8418 - val_loss: 0.1414 - val_accuracy: 0.9434\n",
      "Epoch 2/6\n",
      "100/100 [==============================] - 11s 109ms/step - loss: 0.6042 - accuracy: 0.8103\n",
      "Epoch 3/6\n",
      "100/100 [==============================] - 11s 109ms/step - loss: 0.5785 - accuracy: 0.8359\n",
      "Epoch 4/6\n",
      "100/100 [==============================] - 12s 117ms/step - loss: 0.5914 - accuracy: 0.8319\n",
      "Epoch 5/6\n",
      "100/100 [==============================] - 12s 117ms/step - loss: 0.6001 - accuracy: 0.8506\n",
      "Epoch 6/6\n",
      "100/100 [==============================] - 12s 118ms/step - loss: 0.5942 - accuracy: 0.8422\n"
     ]
    }
   ],
   "source": [
    "# Fit Model\n",
    "history = model.fit(\n",
    "            train_data,\n",
    "            steps_per_epoch=100,\n",
    "            epochs=6,\n",
    "            validation_data=valid_data,\n",
    "            validation_steps=60\n",
    "            )"
   ]
  },
  {
   "cell_type": "code",
   "execution_count": 65,
   "metadata": {},
   "outputs": [
    {
     "name": "stdout",
     "output_type": "stream",
     "text": [
      "[0.1414325088262558] [0.9434083700180054]\n"
     ]
    }
   ],
   "source": [
    "print(history.history['val_loss'],\n",
    "history.history['val_accuracy'])"
   ]
  },
  {
   "cell_type": "markdown",
   "metadata": {},
   "source": [
    "**The model achieves a validation accuracy of 94.3%**"
   ]
  },
  {
   "cell_type": "markdown",
   "metadata": {},
   "source": [
    "### Test the model on a validation image"
   ]
  },
  {
   "cell_type": "code",
   "execution_count": 66,
   "metadata": {},
   "outputs": [
    {
     "data": {
      "text/plain": [
       "<matplotlib.image.AxesImage at 0x2186627a0d0>"
      ]
     },
     "execution_count": 66,
     "metadata": {},
     "output_type": "execute_result"
    },
    {
     "data": {
      "image/png": "[encoded data removed]",
      "text/plain": [
       "<Figure size 432x288 with 1 Axes>"
      ]
     },
     "metadata": {
      "needs_background": "light"
     },
     "output_type": "display_data"
    }
   ],
   "source": [
    "from tensorflow.keras.preprocessing.image import load_img\n",
    "from tensorflow.keras.preprocessing.image import img_to_array\n",
    "from matplotlib import pyplot as plt\n",
    "\n",
    "#Load a technic lever image from the validation folder\n",
    "img = load_img(\"LEGO/valid/6632 Technic Lever 3M/201706171606-0051.png\",\n",
    "               color_mode='rgb',\n",
    "               target_size=(96,96)\n",
    "              )\n",
    "\n",
    "\n",
    "plt.imshow(img)"
   ]
  },
  {
   "cell_type": "code",
   "execution_count": 67,
   "metadata": {},
   "outputs": [
    {
     "data": {
      "text/plain": [
       "array([[1.9117724e-04, 5.1151117e-04, 5.4323526e-05, 1.7991384e-05,\n",
       "        1.0672984e-06, 4.0929543e-15, 5.7599938e-04, 3.3993399e-07,\n",
       "        2.8058449e-09, 2.1812156e-07, 1.1798958e-07, 4.3334303e-08,\n",
       "        2.0723501e-11, 9.6659652e-16, 9.3896739e-07, 9.9864632e-01]],\n",
       "      dtype=float32)"
      ]
     },
     "execution_count": 67,
     "metadata": {},
     "output_type": "execute_result"
    }
   ],
   "source": [
    "# convert the image to an array\n",
    "single_image = img_to_array(img)\n",
    "\n",
    "# normalize the image by dividing by 255\n",
    "img_rank4 = np.expand_dims(single_image/255, axis=0)\n",
    "\n",
    "# pass the image through the model\n",
    "model.predict(img_rank4)"
   ]
  },
  {
   "cell_type": "code",
   "execution_count": 68,
   "metadata": {},
   "outputs": [
    {
     "data": {
      "text/plain": [
       "array([[0., 0., 0., 0., 0., 0., 0., 0., 0., 0., 0., 0., 0., 0., 0., 1.]],\n",
       "      dtype=float32)"
      ]
     },
     "execution_count": 68,
     "metadata": {},
     "output_type": "execute_result"
    }
   ],
   "source": [
    "# round the values in the prediction array\n",
    "np.round(model.predict(img_rank4),2)"
   ]
  },
  {
   "cell_type": "code",
   "execution_count": 69,
   "metadata": {},
   "outputs": [
    {
     "data": {
      "text/plain": [
       "array([15], dtype=int64)"
      ]
     },
     "execution_count": 69,
     "metadata": {},
     "output_type": "execute_result"
    }
   ],
   "source": [
    "# predict the class\n",
    "np.argmax(model.predict(img_rank4), axis=-1)"
   ]
  },
  {
   "cell_type": "markdown",
   "metadata": {},
   "source": [
    "The model predicts the class at index 15"
   ]
  },
  {
   "cell_type": "code",
   "execution_count": 70,
   "metadata": {},
   "outputs": [
    {
     "data": {
      "text/plain": [
       "{'11214 Bush 3M friction with Cross axle': 0,\n",
       " '18651 Cross Axle 2M with Snap friction': 1,\n",
       " '2357 Brick corner 1x2x2': 2,\n",
       " '3003 Brick 2x2': 3,\n",
       " '3004 Brick 1x2': 4,\n",
       " '3005 Brick 1x1': 5,\n",
       " '3022 Plate 2x2': 6,\n",
       " '3023 Plate 1x2': 7,\n",
       " '3024 Plate 1x1': 8,\n",
       " '3040 Roof Tile 1x2x45deg': 9,\n",
       " '3069 Flat Tile 1x2': 10,\n",
       " '32123 half Bush': 11,\n",
       " '3673 Peg 2M': 12,\n",
       " '3713 Bush for Cross Axle': 13,\n",
       " '3794 Plate 1X2 with 1 Knob': 14,\n",
       " '6632 Technic Lever 3M': 15}"
      ]
     },
     "execution_count": 70,
     "metadata": {},
     "output_type": "execute_result"
    }
   ],
   "source": [
    "# retrieve the class labels from train_generator\n",
    "label_map = (train_data.class_indices)\n",
    "label_map"
   ]
  },
  {
   "cell_type": "code",
   "execution_count": 71,
   "metadata": {},
   "outputs": [
    {
     "data": {
      "text/plain": [
       "'6632 Technic Lever 3M'"
      ]
     },
     "execution_count": 71,
     "metadata": {},
     "output_type": "execute_result"
    }
   ],
   "source": [
    "# retrieve the class label of the prediction:\n",
    "list(label_map.keys())[model.predict_classes(img_rank4)[0]]"
   ]
  },
  {
   "cell_type": "markdown",
   "metadata": {},
   "source": [
    "**The model correctly predicted the image as a \"6632 Technic Lever 3M\"**"
   ]
  }
 ],
 "metadata": {
  "kernelspec": {
   "display_name": "Python 3",
   "language": "python",
   "name": "python3"
  },
  "language_info": {
   "codemirror_mode": {
    "name": "ipython",
    "version": 3
   },
   "file_extension": ".py",
   "mimetype": "text/x-python",
   "name": "python",
   "nbconvert_exporter": "python",
   "pygments_lexer": "ipython3",
   "version": "3.8.3"
  }
 },
 "nbformat": 4,
 "nbformat_minor": 2
}
