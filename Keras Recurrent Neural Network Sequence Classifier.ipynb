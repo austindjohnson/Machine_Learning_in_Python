{
 "cells": [
  {
   "cell_type": "markdown",
   "metadata": {},
   "source": [
    "# Keras RNN Sequence Classification "
   ]
  },
  {
   "cell_type": "markdown",
   "metadata": {},
   "source": [
    "This data set is made available by MIT. It contains data about 9,026 heartbeat measurements. Each row represents a single measurement (captured on a timeline). There are a total of 187 data points (columns) for each measurement. Multiclass classification task: predict whether the measurement represents a normal heartbeat or other anomalies. "
   ]
  },
  {
   "cell_type": "markdown",
   "metadata": {},
   "source": [
    "## Goal\n",
    "\n",
    "Use the data set **hearbeat.csv** to predict the column called **Target**. The input variables are columns labeled as **T1 to T187**. "
   ]
  },
  {
   "cell_type": "markdown",
   "metadata": {},
   "source": [
    "# Read and Prepare the Data"
   ]
  },
  {
   "cell_type": "code",
   "execution_count": 1,
   "metadata": {},
   "outputs": [
    {
     "data": {
      "text/plain": [
       "(9026, 188)"
      ]
     },
     "execution_count": 1,
     "metadata": {},
     "output_type": "execute_result"
    }
   ],
   "source": [
    "import numpy as np\n",
    "import tensorflow as tf\n",
    "from tensorflow import keras\n",
    "import pandas as pd\n",
    "\n",
    "data = pd.read_csv(\"heartbeat.csv\")\n",
    "\n",
    "data.shape"
   ]
  },
  {
   "cell_type": "code",
   "execution_count": 2,
   "metadata": {},
   "outputs": [
    {
     "data": {
      "text/html": [
       "<div>\n",
       "<style scoped>\n",
       "    .dataframe tbody tr th:only-of-type {\n",
       "        vertical-align: middle;\n",
       "    }\n",
       "\n",
       "    .dataframe tbody tr th {\n",
       "        vertical-align: top;\n",
       "    }\n",
       "\n",
       "    .dataframe thead th {\n",
       "        text-align: right;\n",
       "    }\n",
       "</style>\n",
       "<table border=\"1\" class=\"dataframe\">\n",
       "  <thead>\n",
       "    <tr style=\"text-align: right;\">\n",
       "      <th></th>\n",
       "      <th>T1</th>\n",
       "      <th>T2</th>\n",
       "      <th>T3</th>\n",
       "      <th>T4</th>\n",
       "      <th>T5</th>\n",
       "      <th>T6</th>\n",
       "      <th>T7</th>\n",
       "      <th>T8</th>\n",
       "      <th>T9</th>\n",
       "      <th>T10</th>\n",
       "      <th>...</th>\n",
       "      <th>T179</th>\n",
       "      <th>T180</th>\n",
       "      <th>T181</th>\n",
       "      <th>T182</th>\n",
       "      <th>T183</th>\n",
       "      <th>T184</th>\n",
       "      <th>T185</th>\n",
       "      <th>T186</th>\n",
       "      <th>T187</th>\n",
       "      <th>Target</th>\n",
       "    </tr>\n",
       "  </thead>\n",
       "  <tbody>\n",
       "    <tr>\n",
       "      <th>0</th>\n",
       "      <td>0.987</td>\n",
       "      <td>0.892</td>\n",
       "      <td>0.461</td>\n",
       "      <td>0.1130</td>\n",
       "      <td>0.1490</td>\n",
       "      <td>0.1900</td>\n",
       "      <td>0.1650</td>\n",
       "      <td>0.1620</td>\n",
       "      <td>0.1470</td>\n",
       "      <td>0.1380</td>\n",
       "      <td>...</td>\n",
       "      <td>0.0</td>\n",
       "      <td>0.0</td>\n",
       "      <td>0.0</td>\n",
       "      <td>0.0</td>\n",
       "      <td>0.0</td>\n",
       "      <td>0.0</td>\n",
       "      <td>0.0</td>\n",
       "      <td>0.0</td>\n",
       "      <td>0.0</td>\n",
       "      <td>0.0</td>\n",
       "    </tr>\n",
       "    <tr>\n",
       "      <th>1</th>\n",
       "      <td>1.000</td>\n",
       "      <td>0.918</td>\n",
       "      <td>0.621</td>\n",
       "      <td>0.1330</td>\n",
       "      <td>0.1050</td>\n",
       "      <td>0.1250</td>\n",
       "      <td>0.1170</td>\n",
       "      <td>0.0898</td>\n",
       "      <td>0.0703</td>\n",
       "      <td>0.0781</td>\n",
       "      <td>...</td>\n",
       "      <td>0.0</td>\n",
       "      <td>0.0</td>\n",
       "      <td>0.0</td>\n",
       "      <td>0.0</td>\n",
       "      <td>0.0</td>\n",
       "      <td>0.0</td>\n",
       "      <td>0.0</td>\n",
       "      <td>0.0</td>\n",
       "      <td>0.0</td>\n",
       "      <td>0.0</td>\n",
       "    </tr>\n",
       "    <tr>\n",
       "      <th>2</th>\n",
       "      <td>1.000</td>\n",
       "      <td>0.751</td>\n",
       "      <td>0.143</td>\n",
       "      <td>0.1040</td>\n",
       "      <td>0.0961</td>\n",
       "      <td>0.0519</td>\n",
       "      <td>0.0442</td>\n",
       "      <td>0.0416</td>\n",
       "      <td>0.0364</td>\n",
       "      <td>0.0857</td>\n",
       "      <td>...</td>\n",
       "      <td>0.0</td>\n",
       "      <td>0.0</td>\n",
       "      <td>0.0</td>\n",
       "      <td>0.0</td>\n",
       "      <td>0.0</td>\n",
       "      <td>0.0</td>\n",
       "      <td>0.0</td>\n",
       "      <td>0.0</td>\n",
       "      <td>0.0</td>\n",
       "      <td>0.0</td>\n",
       "    </tr>\n",
       "    <tr>\n",
       "      <th>3</th>\n",
       "      <td>1.000</td>\n",
       "      <td>0.740</td>\n",
       "      <td>0.235</td>\n",
       "      <td>0.0464</td>\n",
       "      <td>0.0722</td>\n",
       "      <td>0.0567</td>\n",
       "      <td>0.0103</td>\n",
       "      <td>0.0155</td>\n",
       "      <td>0.0284</td>\n",
       "      <td>0.0155</td>\n",
       "      <td>...</td>\n",
       "      <td>0.0</td>\n",
       "      <td>0.0</td>\n",
       "      <td>0.0</td>\n",
       "      <td>0.0</td>\n",
       "      <td>0.0</td>\n",
       "      <td>0.0</td>\n",
       "      <td>0.0</td>\n",
       "      <td>0.0</td>\n",
       "      <td>0.0</td>\n",
       "      <td>0.0</td>\n",
       "    </tr>\n",
       "    <tr>\n",
       "      <th>4</th>\n",
       "      <td>1.000</td>\n",
       "      <td>0.626</td>\n",
       "      <td>0.276</td>\n",
       "      <td>0.3250</td>\n",
       "      <td>0.4310</td>\n",
       "      <td>0.3900</td>\n",
       "      <td>0.3940</td>\n",
       "      <td>0.3580</td>\n",
       "      <td>0.3740</td>\n",
       "      <td>0.3620</td>\n",
       "      <td>...</td>\n",
       "      <td>0.0</td>\n",
       "      <td>0.0</td>\n",
       "      <td>0.0</td>\n",
       "      <td>0.0</td>\n",
       "      <td>0.0</td>\n",
       "      <td>0.0</td>\n",
       "      <td>0.0</td>\n",
       "      <td>0.0</td>\n",
       "      <td>0.0</td>\n",
       "      <td>0.0</td>\n",
       "    </tr>\n",
       "  </tbody>\n",
       "</table>\n",
       "<p>5 rows × 188 columns</p>\n",
       "</div>"
      ],
      "text/plain": [
       "      T1     T2     T3      T4      T5      T6      T7      T8      T9  \\\n",
       "0  0.987  0.892  0.461  0.1130  0.1490  0.1900  0.1650  0.1620  0.1470   \n",
       "1  1.000  0.918  0.621  0.1330  0.1050  0.1250  0.1170  0.0898  0.0703   \n",
       "2  1.000  0.751  0.143  0.1040  0.0961  0.0519  0.0442  0.0416  0.0364   \n",
       "3  1.000  0.740  0.235  0.0464  0.0722  0.0567  0.0103  0.0155  0.0284   \n",
       "4  1.000  0.626  0.276  0.3250  0.4310  0.3900  0.3940  0.3580  0.3740   \n",
       "\n",
       "      T10  ...  T179  T180  T181  T182  T183  T184  T185  T186  T187  Target  \n",
       "0  0.1380  ...   0.0   0.0   0.0   0.0   0.0   0.0   0.0   0.0   0.0     0.0  \n",
       "1  0.0781  ...   0.0   0.0   0.0   0.0   0.0   0.0   0.0   0.0   0.0     0.0  \n",
       "2  0.0857  ...   0.0   0.0   0.0   0.0   0.0   0.0   0.0   0.0   0.0     0.0  \n",
       "3  0.0155  ...   0.0   0.0   0.0   0.0   0.0   0.0   0.0   0.0   0.0     0.0  \n",
       "4  0.3620  ...   0.0   0.0   0.0   0.0   0.0   0.0   0.0   0.0   0.0     0.0  \n",
       "\n",
       "[5 rows x 188 columns]"
      ]
     },
     "execution_count": 2,
     "metadata": {},
     "output_type": "execute_result"
    }
   ],
   "source": [
    "data.head()"
   ]
  },
  {
   "cell_type": "markdown",
   "metadata": {},
   "source": [
    "### Separate Target"
   ]
  },
  {
   "cell_type": "code",
   "execution_count": 3,
   "metadata": {},
   "outputs": [],
   "source": [
    "y = data['Target']\n",
    "x = data.drop('Target', axis=1)"
   ]
  },
  {
   "cell_type": "markdown",
   "metadata": {},
   "source": [
    "### Split into Train/Test"
   ]
  },
  {
   "cell_type": "code",
   "execution_count": 4,
   "metadata": {},
   "outputs": [],
   "source": [
    "from sklearn.model_selection import train_test_split\n",
    "train_x, test_x, train_y, test_y = train_test_split(x, y, test_size=0.3)"
   ]
  },
  {
   "cell_type": "markdown",
   "metadata": {},
   "source": [
    "### Determine Baseline Accuracy"
   ]
  },
  {
   "cell_type": "code",
   "execution_count": 5,
   "metadata": {},
   "outputs": [
    {
     "data": {
      "text/plain": [
       "0.0    3655\n",
       "4.0    1140\n",
       "2.0    1021\n",
       "1.0     391\n",
       "3.0     111\n",
       "Name: Target, dtype: int64"
      ]
     },
     "execution_count": 5,
     "metadata": {},
     "output_type": "execute_result"
    }
   ],
   "source": [
    "# Find the majority class:\n",
    "train_y.value_counts()"
   ]
  },
  {
   "cell_type": "code",
   "execution_count": 6,
   "metadata": {},
   "outputs": [
    {
     "data": {
      "text/plain": [
       "0.0    0.578506\n",
       "4.0    0.180437\n",
       "2.0    0.161602\n",
       "1.0    0.061887\n",
       "3.0    0.017569\n",
       "Name: Target, dtype: float64"
      ]
     },
     "execution_count": 6,
     "metadata": {},
     "output_type": "execute_result"
    }
   ],
   "source": [
    "#Find the percentage of the majority class:\n",
    "train_y.value_counts()/len(train_y)"
   ]
  },
  {
   "cell_type": "markdown",
   "metadata": {},
   "source": [
    "**The baseline accuracy is 57.99% predicting 0 (a Normal heartbeat)**"
   ]
  },
  {
   "cell_type": "markdown",
   "metadata": {},
   "source": [
    "### Data Transformation"
   ]
  },
  {
   "cell_type": "code",
   "execution_count": 7,
   "metadata": {},
   "outputs": [
    {
     "data": {
      "text/plain": [
       "array([0, 2, 4, 0, 1, 0, 2, 0, 2, 2])"
      ]
     },
     "execution_count": 7,
     "metadata": {},
     "output_type": "execute_result"
    }
   ],
   "source": [
    "#Convert target to array\n",
    "train_y = np.array(train_y)\n",
    "test_y = np.array(test_y)\n",
    "\n",
    "#Convert target to integers\n",
    "train_y = train_y.astype(np.int32)\n",
    "test_y = test_y.astype(np.int32)\n",
    "\n",
    "train_y[0:10]"
   ]
  },
  {
   "cell_type": "code",
   "execution_count": 8,
   "metadata": {},
   "outputs": [
    {
     "data": {
      "text/plain": [
       "array([[1.    , 0.96  , 0.568 , ..., 0.    , 0.    , 0.    ],\n",
       "       [0.    , 0.0216, 0.0711, ..., 0.    , 0.    , 0.    ],\n",
       "       [0.693 , 0.592 , 0.483 , ..., 0.    , 0.    , 0.    ],\n",
       "       ...,\n",
       "       [1.    , 0.607 , 0.217 , ..., 0.    , 0.    , 0.    ],\n",
       "       [0.823 , 0.799 , 0.487 , ..., 0.    , 0.    , 0.    ],\n",
       "       [0.881 , 0.937 , 0.877 , ..., 0.    , 0.    , 0.    ]],\n",
       "      dtype=float32)"
      ]
     },
     "execution_count": 8,
     "metadata": {},
     "output_type": "execute_result"
    }
   ],
   "source": [
    "#Convert input to array\n",
    "train_x= np.array(train_x)\n",
    "test_x= np.array(test_x)\n",
    "\n",
    "#Convert input to float\n",
    "train_x = train_x.astype(np.float32)\n",
    "test_x = test_x.astype(np.float32)\n",
    "\n",
    "train_x[0:10]"
   ]
  },
  {
   "cell_type": "code",
   "execution_count": 9,
   "metadata": {},
   "outputs": [],
   "source": [
    "# Add a third dimension to the input arrays\n",
    "train_x = np.reshape(train_x, (train_x.shape[0], train_x.shape[1], 1))\n",
    "test_x = np.reshape(test_x, (test_x.shape[0], test_x.shape[1], 1))"
   ]
  },
  {
   "cell_type": "code",
   "execution_count": 10,
   "metadata": {},
   "outputs": [
    {
     "data": {
      "text/plain": [
       "((6318, 187, 1), (6318,))"
      ]
     },
     "execution_count": 10,
     "metadata": {},
     "output_type": "execute_result"
    }
   ],
   "source": [
    "train_x.shape, train_y.shape"
   ]
  },
  {
   "cell_type": "markdown",
   "metadata": {},
   "source": [
    "# LSTM Model"
   ]
  },
  {
   "cell_type": "markdown",
   "metadata": {},
   "source": [
    "Note:\n",
    "\n",
    "To account for the zero-padding this goes at the input layer:<br>\n",
    "`tf.keras.layers.Masking(mask_value=0, input_shape=[n_steps, n_inputs])`\n"
   ]
  },
  {
   "cell_type": "code",
   "execution_count": 11,
   "metadata": {},
   "outputs": [],
   "source": [
    "np.random.seed(42)\n",
    "tf.random.set_seed(42)\n",
    "\n",
    "#define steps and inputs\n",
    "n_steps = 187\n",
    "n_inputs = 1\n",
    "\n",
    "#define model - 3 LSTM layers and a Dense layer\n",
    "model = keras.models.Sequential([\n",
    "    \n",
    "    tf.keras.layers.Masking(mask_value=0, input_shape=[n_steps, n_inputs]),\n",
    "    keras.layers.LSTM(10, return_sequences=True),\n",
    "    keras.layers.LSTM(10, return_sequences=True),\n",
    "    keras.layers.LSTM(10),\n",
    "    keras.layers.Dense(5, activation='softmax')\n",
    "])"
   ]
  },
  {
   "cell_type": "code",
   "execution_count": 12,
   "metadata": {},
   "outputs": [],
   "source": [
    "from tensorflow.keras.callbacks import EarlyStopping\n",
    "\n",
    "#define early-stopping parameters\n",
    "earlystop = EarlyStopping(monitor='val_loss', patience=5, verbose=1, mode='auto')\n",
    "\n",
    "callback = [earlystop]"
   ]
  },
  {
   "cell_type": "code",
   "execution_count": 13,
   "metadata": {},
   "outputs": [
    {
     "name": "stdout",
     "output_type": "stream",
     "text": [
      "Epoch 1/20\n",
      "198/198 [==============================] - 36s 180ms/step - loss: 1.1709 - accuracy: 0.5785 - val_loss: 1.0988 - val_accuracy: 0.5897\n",
      "Epoch 2/20\n",
      "198/198 [==============================] - 34s 171ms/step - loss: 1.0811 - accuracy: 0.5785 - val_loss: 1.0599 - val_accuracy: 0.5897\n",
      "Epoch 3/20\n",
      "198/198 [==============================] - 34s 170ms/step - loss: 1.0601 - accuracy: 0.5785 - val_loss: 1.0493 - val_accuracy: 0.5897\n",
      "Epoch 4/20\n",
      "198/198 [==============================] - 35s 174ms/step - loss: 1.0479 - accuracy: 0.5772 - val_loss: 1.0342 - val_accuracy: 0.5897\n",
      "Epoch 5/20\n",
      "198/198 [==============================] - 34s 172ms/step - loss: 1.0398 - accuracy: 0.5757 - val_loss: 1.0978 - val_accuracy: 0.6001\n",
      "Epoch 6/20\n",
      "198/198 [==============================] - 34s 173ms/step - loss: 1.0240 - accuracy: 0.5848 - val_loss: 1.0119 - val_accuracy: 0.5883\n",
      "Epoch 7/20\n",
      "198/198 [==============================] - 34s 171ms/step - loss: 1.0005 - accuracy: 0.6062 - val_loss: 0.9643 - val_accuracy: 0.6374\n",
      "Epoch 8/20\n",
      "198/198 [==============================] - 36s 183ms/step - loss: 0.9516 - accuracy: 0.6521 - val_loss: 0.8855 - val_accuracy: 0.6953\n",
      "Epoch 9/20\n",
      "198/198 [==============================] - 36s 182ms/step - loss: 0.8918 - accuracy: 0.6882 - val_loss: 0.8325 - val_accuracy: 0.7157\n",
      "Epoch 10/20\n",
      "198/198 [==============================] - 36s 182ms/step - loss: 0.8546 - accuracy: 0.7091 - val_loss: 0.8788 - val_accuracy: 0.6883\n",
      "Epoch 11/20\n",
      "198/198 [==============================] - 36s 183ms/step - loss: 0.8170 - accuracy: 0.7273 - val_loss: 0.7811 - val_accuracy: 0.7415\n",
      "Epoch 12/20\n",
      "198/198 [==============================] - 36s 181ms/step - loss: 0.7888 - accuracy: 0.7407 - val_loss: 0.7846 - val_accuracy: 0.7326\n",
      "Epoch 13/20\n",
      "198/198 [==============================] - 37s 188ms/step - loss: 0.7542 - accuracy: 0.7542 - val_loss: 0.7234 - val_accuracy: 0.7777\n",
      "Epoch 14/20\n",
      "198/198 [==============================] - 37s 186ms/step - loss: 0.7383 - accuracy: 0.7605 - val_loss: 0.6837 - val_accuracy: 0.7858\n",
      "Epoch 15/20\n",
      "198/198 [==============================] - 40s 200ms/step - loss: 0.7051 - accuracy: 0.7722 - val_loss: 0.6754 - val_accuracy: 0.7866\n",
      "Epoch 16/20\n",
      "198/198 [==============================] - 36s 184ms/step - loss: 0.6897 - accuracy: 0.7822 - val_loss: 0.6721 - val_accuracy: 0.7862\n",
      "Epoch 17/20\n",
      "198/198 [==============================] - 37s 189ms/step - loss: 0.6788 - accuracy: 0.7849 - val_loss: 0.6603 - val_accuracy: 0.7866\n",
      "Epoch 18/20\n",
      "198/198 [==============================] - 36s 182ms/step - loss: 0.6593 - accuracy: 0.7947 - val_loss: 0.6603 - val_accuracy: 0.7962\n",
      "Epoch 19/20\n",
      "198/198 [==============================] - 36s 184ms/step - loss: 0.6482 - accuracy: 0.7960 - val_loss: 0.5987 - val_accuracy: 0.8183\n",
      "Epoch 20/20\n",
      "198/198 [==============================] - 36s 182ms/step - loss: 0.6230 - accuracy: 0.8093 - val_loss: 0.6121 - val_accuracy: 0.8080\n"
     ]
    }
   ],
   "source": [
    "#define optimizer and learning rate\n",
    "optimizer = keras.optimizers.Nadam(lr=0.001)\n",
    "\n",
    "#compile the model\n",
    "model.compile(loss=\"sparse_categorical_crossentropy\", optimizer=optimizer, metrics=['accuracy'])\n",
    "\n",
    "#fit the model\n",
    "history = model.fit(train_x, train_y, epochs=20,\n",
    "                   validation_data = (test_x, test_y), callbacks=callback)"
   ]
  },
  {
   "cell_type": "code",
   "execution_count": 14,
   "metadata": {},
   "outputs": [
    {
     "data": {
      "text/plain": [
       "[0.6120646595954895, 0.8079763650894165]"
      ]
     },
     "execution_count": 14,
     "metadata": {},
     "output_type": "execute_result"
    }
   ],
   "source": [
    "# evaluate the model\n",
    "scores = model.evaluate(test_x, test_y, verbose=0)\n",
    "scores\n",
    "\n",
    "# first is loss, second is accuracy"
   ]
  },
  {
   "cell_type": "code",
   "execution_count": 15,
   "metadata": {},
   "outputs": [
    {
     "name": "stdout",
     "output_type": "stream",
     "text": [
      "loss: 0.61\n",
      "accuracy: 80.80%\n"
     ]
    }
   ],
   "source": [
    "# extract the accuracy from model.evaluate\n",
    "print(\"%s: %.2f\" % (model.metrics_names[0], scores[0]))\n",
    "print(\"%s: %.2f%%\" % (model.metrics_names[1], scores[1]*100))"
   ]
  },
  {
   "cell_type": "markdown",
   "metadata": {},
   "source": [
    "# GRU Model"
   ]
  },
  {
   "cell_type": "code",
   "execution_count": 16,
   "metadata": {},
   "outputs": [],
   "source": [
    "#define the model - 4 GRU layers\n",
    "model = keras.models.Sequential([\n",
    "    \n",
    "    tf.keras.layers.Masking(mask_value=0, input_shape=[n_steps, n_inputs]),\n",
    "    keras.layers.GRU(20, return_sequences=True),\n",
    "    keras.layers.GRU(20, return_sequences=True),\n",
    "    keras.layers.GRU(20, return_sequences=True),\n",
    "    keras.layers.GRU(5, activation='softmax')\n",
    "])"
   ]
  },
  {
   "cell_type": "code",
   "execution_count": 17,
   "metadata": {},
   "outputs": [
    {
     "name": "stdout",
     "output_type": "stream",
     "text": [
      "Epoch 1/20\n",
      "198/198 [==============================] - 51s 255ms/step - loss: 1.1727 - accuracy: 0.5589 - val_loss: 1.0564 - val_accuracy: 0.6115\n",
      "Epoch 2/20\n",
      "198/198 [==============================] - 45s 228ms/step - loss: 0.9923 - accuracy: 0.6288 - val_loss: 0.8646 - val_accuracy: 0.6968\n",
      "Epoch 3/20\n",
      "198/198 [==============================] - 46s 231ms/step - loss: 0.7770 - accuracy: 0.7501 - val_loss: 0.7399 - val_accuracy: 0.7589\n",
      "Epoch 4/20\n",
      "198/198 [==============================] - 45s 229ms/step - loss: 0.6712 - accuracy: 0.7980 - val_loss: 0.6166 - val_accuracy: 0.8209\n",
      "Epoch 5/20\n",
      "198/198 [==============================] - 44s 225ms/step - loss: 0.6356 - accuracy: 0.8101 - val_loss: 0.6027 - val_accuracy: 0.8172\n",
      "Epoch 6/20\n",
      "198/198 [==============================] - 46s 230ms/step - loss: 0.5888 - accuracy: 0.8243 - val_loss: 0.5491 - val_accuracy: 0.8342\n",
      "Epoch 7/20\n",
      "198/198 [==============================] - 48s 243ms/step - loss: 0.5509 - accuracy: 0.8340 - val_loss: 0.5213 - val_accuracy: 0.8386\n",
      "Epoch 8/20\n",
      "198/198 [==============================] - 48s 245ms/step - loss: 0.5259 - accuracy: 0.8373 - val_loss: 0.5017 - val_accuracy: 0.8423\n",
      "Epoch 9/20\n",
      "198/198 [==============================] - 48s 243ms/step - loss: 0.5069 - accuracy: 0.8416 - val_loss: 0.5017 - val_accuracy: 0.8438\n",
      "Epoch 10/20\n",
      "198/198 [==============================] - 49s 250ms/step - loss: 0.4920 - accuracy: 0.8463 - val_loss: 0.4780 - val_accuracy: 0.8497\n",
      "Epoch 11/20\n",
      "198/198 [==============================] - 50s 253ms/step - loss: 0.4761 - accuracy: 0.8490 - val_loss: 0.4783 - val_accuracy: 0.8552\n",
      "Epoch 12/20\n",
      "198/198 [==============================] - 51s 255ms/step - loss: 0.4647 - accuracy: 0.8512 - val_loss: 0.4532 - val_accuracy: 0.8534\n",
      "Epoch 13/20\n",
      "198/198 [==============================] - 49s 247ms/step - loss: 0.4518 - accuracy: 0.8564 - val_loss: 0.4537 - val_accuracy: 0.8564\n",
      "Epoch 14/20\n",
      "198/198 [==============================] - 49s 246ms/step - loss: 0.4434 - accuracy: 0.8591 - val_loss: 0.4553 - val_accuracy: 0.8549\n",
      "Epoch 15/20\n",
      "198/198 [==============================] - 48s 242ms/step - loss: 0.4349 - accuracy: 0.8610 - val_loss: 0.4181 - val_accuracy: 0.8637\n",
      "Epoch 16/20\n",
      "198/198 [==============================] - 47s 239ms/step - loss: 0.4227 - accuracy: 0.8650 - val_loss: 0.4346 - val_accuracy: 0.8556\n",
      "Epoch 17/20\n",
      "198/198 [==============================] - 46s 231ms/step - loss: 0.4136 - accuracy: 0.8670 - val_loss: 0.4067 - val_accuracy: 0.8674\n",
      "Epoch 18/20\n",
      "198/198 [==============================] - 47s 236ms/step - loss: 0.4064 - accuracy: 0.8710 - val_loss: 0.3894 - val_accuracy: 0.8770\n",
      "Epoch 19/20\n",
      "198/198 [==============================] - 43s 218ms/step - loss: 0.3980 - accuracy: 0.8740 - val_loss: 0.4024 - val_accuracy: 0.8778\n",
      "Epoch 20/20\n",
      "198/198 [==============================] - 42s 215ms/step - loss: 0.3897 - accuracy: 0.8773 - val_loss: 0.4070 - val_accuracy: 0.8656\n"
     ]
    }
   ],
   "source": [
    "#define the optimizer and learning rate\n",
    "optimizer = keras.optimizers.Nadam(lr=0.001)\n",
    "\n",
    "#compile the  model\n",
    "model.compile(loss=\"sparse_categorical_crossentropy\", optimizer=optimizer, metrics=['accuracy'])\n",
    "\n",
    "#fit the model\n",
    "history = model.fit(train_x, train_y, epochs=20,\n",
    "                   validation_data = (test_x, test_y), callbacks=callback)"
   ]
  },
  {
   "cell_type": "code",
   "execution_count": 18,
   "metadata": {},
   "outputs": [
    {
     "data": {
      "text/plain": [
       "[0.4070214629173279, 0.8655834794044495]"
      ]
     },
     "execution_count": 18,
     "metadata": {},
     "output_type": "execute_result"
    }
   ],
   "source": [
    "# evaluate the model\n",
    "scores = model.evaluate(test_x, test_y, verbose=0)\n",
    "scores\n",
    "\n",
    "# first is loss, second is accuracy"
   ]
  },
  {
   "cell_type": "code",
   "execution_count": 19,
   "metadata": {},
   "outputs": [
    {
     "name": "stdout",
     "output_type": "stream",
     "text": [
      "loss: 0.41\n",
      "accuracy: 86.56%\n"
     ]
    }
   ],
   "source": [
    "# extract the accuracy from model.evaluate\n",
    "print(\"%s: %.2f\" % (model.metrics_names[0], scores[0]))\n",
    "print(\"%s: %.2f%%\" % (model.metrics_names[1], scores[1]*100))"
   ]
  },
  {
   "cell_type": "raw",
   "metadata": {},
   "source": [
    "The GRU model performs noticeably better than the LSTM model, achieving an accuracy of 86.56% compared to 80.80%. In addition, the GRU model has a distinctively lower loss value of .41 compared to .61. In the final epoch of the GRU model, the train accuracy was 87.7%, only one percentage point higher than the test accuracy, indicating very little overfitting."
   ]
  }
 ],
 "metadata": {
  "kernelspec": {
   "display_name": "Python 3",
   "language": "python",
   "name": "python3"
  },
  "language_info": {
   "codemirror_mode": {
    "name": "ipython",
    "version": 3
   },
   "file_extension": ".py",
   "mimetype": "text/x-python",
   "name": "python",
   "nbconvert_exporter": "python",
   "pygments_lexer": "ipython3",
   "version": "3.8.3"
  }
 },
 "nbformat": 4,
 "nbformat_minor": 2
}
