{
 "cells": [
  {
   "cell_type": "markdown",
   "metadata": {},
   "source": [
    "# Text Mining - Job Ads\n",
    "\n",
    "\n",
    "The data set includes information on job descriptions and minimum qualifications of job ads in the state of New York. See if we can predict the salary of a state employee (i.e., the `Salary` column in the data set) based on the job description and minimum qualifications. This is important, because this model can make a salary recommendation as soon as a job description is entered into the system."
   ]
  },
  {
   "cell_type": "markdown",
   "metadata": {},
   "source": [
    "## Goal\n",
    "\n",
    "Use the **nyc-jobs.csv** data set and build a model to predict **Salary**. "
   ]
  },
  {
   "cell_type": "markdown",
   "metadata": {},
   "source": [
    "# Read and Prepare the Data"
   ]
  },
  {
   "cell_type": "code",
   "execution_count": 132,
   "metadata": {},
   "outputs": [
    {
     "data": {
      "text/html": [
       "<div>\n",
       "<style scoped>\n",
       "    .dataframe tbody tr th:only-of-type {\n",
       "        vertical-align: middle;\n",
       "    }\n",
       "\n",
       "    .dataframe tbody tr th {\n",
       "        vertical-align: top;\n",
       "    }\n",
       "\n",
       "    .dataframe thead th {\n",
       "        text-align: right;\n",
       "    }\n",
       "</style>\n",
       "<table border=\"1\" class=\"dataframe\">\n",
       "  <thead>\n",
       "    <tr style=\"text-align: right;\">\n",
       "      <th></th>\n",
       "      <th>Job ID</th>\n",
       "      <th>Salary</th>\n",
       "      <th>Job Description</th>\n",
       "      <th>Minimum Qualifications</th>\n",
       "    </tr>\n",
       "  </thead>\n",
       "  <tbody>\n",
       "    <tr>\n",
       "      <td>0</td>\n",
       "      <td>395893</td>\n",
       "      <td>69484</td>\n",
       "      <td>Please read this posting carefully to make cer...</td>\n",
       "      <td>1. Admission to the New York State Bar; and ei...</td>\n",
       "    </tr>\n",
       "    <tr>\n",
       "      <td>1</td>\n",
       "      <td>400421</td>\n",
       "      <td>58666</td>\n",
       "      <td>Under general direction, with wide latitude fo...</td>\n",
       "      <td>1. A baccalaureate degree from an accredited c...</td>\n",
       "    </tr>\n",
       "    <tr>\n",
       "      <td>2</td>\n",
       "      <td>389859</td>\n",
       "      <td>60125</td>\n",
       "      <td>Emergency and Intervention Services (EIS) prov...</td>\n",
       "      <td>1. A baccalaureate degree from an accredited c...</td>\n",
       "    </tr>\n",
       "    <tr>\n",
       "      <td>3</td>\n",
       "      <td>386138</td>\n",
       "      <td>81473</td>\n",
       "      <td>Only candidates who are permanent in the Civil...</td>\n",
       "      <td>(1) Four (4) years of full-time, satisfactory ...</td>\n",
       "    </tr>\n",
       "    <tr>\n",
       "      <td>4</td>\n",
       "      <td>393299</td>\n",
       "      <td>113920</td>\n",
       "      <td>** THIS POSTING HAS BEEN EXTENDED - CANDIDATES...</td>\n",
       "      <td>1. A master's degree in computer science from ...</td>\n",
       "    </tr>\n",
       "  </tbody>\n",
       "</table>\n",
       "</div>"
      ],
      "text/plain": [
       "   Job ID  Salary                                    Job Description  \\\n",
       "0  395893   69484  Please read this posting carefully to make cer...   \n",
       "1  400421   58666  Under general direction, with wide latitude fo...   \n",
       "2  389859   60125  Emergency and Intervention Services (EIS) prov...   \n",
       "3  386138   81473  Only candidates who are permanent in the Civil...   \n",
       "4  393299  113920  ** THIS POSTING HAS BEEN EXTENDED - CANDIDATES...   \n",
       "\n",
       "                              Minimum Qualifications  \n",
       "0  1. Admission to the New York State Bar; and ei...  \n",
       "1  1. A baccalaureate degree from an accredited c...  \n",
       "2  1. A baccalaureate degree from an accredited c...  \n",
       "3  (1) Four (4) years of full-time, satisfactory ...  \n",
       "4  1. A master's degree in computer science from ...  "
      ]
     },
     "execution_count": 132,
     "metadata": {},
     "output_type": "execute_result"
    }
   ],
   "source": [
    "import pandas as pd\n",
    "import numpy as np\n",
    "\n",
    "np.random.seed(42)\n",
    "\n",
    "jobs = pd.read_csv('nyc-jobs.csv')\n",
    "jobs.head(5)"
   ]
  },
  {
   "cell_type": "code",
   "execution_count": 133,
   "metadata": {},
   "outputs": [
    {
     "data": {
      "text/plain": [
       "Job ID                     0\n",
       "Salary                     0\n",
       "Job Description            0\n",
       "Minimum Qualifications    10\n",
       "dtype: int64"
      ]
     },
     "execution_count": 133,
     "metadata": {},
     "output_type": "execute_result"
    }
   ],
   "source": [
    "#Check for missing values\n",
    "jobs.isna().sum()"
   ]
  },
  {
   "cell_type": "code",
   "execution_count": 134,
   "metadata": {},
   "outputs": [],
   "source": [
    "#Impute \"and\" for missing Minimum Qualifications, it will be filtered during vectorization\n",
    "jobs = jobs.fillna(\"and\")"
   ]
  },
  {
   "cell_type": "code",
   "execution_count": 135,
   "metadata": {},
   "outputs": [
    {
     "data": {
      "text/html": [
       "<div>\n",
       "<style scoped>\n",
       "    .dataframe tbody tr th:only-of-type {\n",
       "        vertical-align: middle;\n",
       "    }\n",
       "\n",
       "    .dataframe tbody tr th {\n",
       "        vertical-align: top;\n",
       "    }\n",
       "\n",
       "    .dataframe thead th {\n",
       "        text-align: right;\n",
       "    }\n",
       "</style>\n",
       "<table border=\"1\" class=\"dataframe\">\n",
       "  <thead>\n",
       "    <tr style=\"text-align: right;\">\n",
       "      <th></th>\n",
       "      <th>Job ID</th>\n",
       "      <th>Salary</th>\n",
       "      <th>Job Description</th>\n",
       "      <th>Minimum Qualifications</th>\n",
       "      <th>Description</th>\n",
       "    </tr>\n",
       "  </thead>\n",
       "  <tbody>\n",
       "    <tr>\n",
       "      <td>0</td>\n",
       "      <td>395893</td>\n",
       "      <td>69484</td>\n",
       "      <td>Please read this posting carefully to make cer...</td>\n",
       "      <td>1. Admission to the New York State Bar; and ei...</td>\n",
       "      <td>Please read this posting carefully to make cer...</td>\n",
       "    </tr>\n",
       "    <tr>\n",
       "      <td>1</td>\n",
       "      <td>400421</td>\n",
       "      <td>58666</td>\n",
       "      <td>Under general direction, with wide latitude fo...</td>\n",
       "      <td>1. A baccalaureate degree from an accredited c...</td>\n",
       "      <td>Under general direction, with wide latitude fo...</td>\n",
       "    </tr>\n",
       "    <tr>\n",
       "      <td>2</td>\n",
       "      <td>389859</td>\n",
       "      <td>60125</td>\n",
       "      <td>Emergency and Intervention Services (EIS) prov...</td>\n",
       "      <td>1. A baccalaureate degree from an accredited c...</td>\n",
       "      <td>Emergency and Intervention Services (EIS) prov...</td>\n",
       "    </tr>\n",
       "    <tr>\n",
       "      <td>3</td>\n",
       "      <td>386138</td>\n",
       "      <td>81473</td>\n",
       "      <td>Only candidates who are permanent in the Civil...</td>\n",
       "      <td>(1) Four (4) years of full-time, satisfactory ...</td>\n",
       "      <td>Only candidates who are permanent in the Civil...</td>\n",
       "    </tr>\n",
       "    <tr>\n",
       "      <td>4</td>\n",
       "      <td>393299</td>\n",
       "      <td>113920</td>\n",
       "      <td>** THIS POSTING HAS BEEN EXTENDED - CANDIDATES...</td>\n",
       "      <td>1. A master's degree in computer science from ...</td>\n",
       "      <td>** THIS POSTING HAS BEEN EXTENDED - CANDIDATES...</td>\n",
       "    </tr>\n",
       "  </tbody>\n",
       "</table>\n",
       "</div>"
      ],
      "text/plain": [
       "   Job ID  Salary                                    Job Description  \\\n",
       "0  395893   69484  Please read this posting carefully to make cer...   \n",
       "1  400421   58666  Under general direction, with wide latitude fo...   \n",
       "2  389859   60125  Emergency and Intervention Services (EIS) prov...   \n",
       "3  386138   81473  Only candidates who are permanent in the Civil...   \n",
       "4  393299  113920  ** THIS POSTING HAS BEEN EXTENDED - CANDIDATES...   \n",
       "\n",
       "                              Minimum Qualifications  \\\n",
       "0  1. Admission to the New York State Bar; and ei...   \n",
       "1  1. A baccalaureate degree from an accredited c...   \n",
       "2  1. A baccalaureate degree from an accredited c...   \n",
       "3  (1) Four (4) years of full-time, satisfactory ...   \n",
       "4  1. A master's degree in computer science from ...   \n",
       "\n",
       "                                         Description  \n",
       "0  Please read this posting carefully to make cer...  \n",
       "1  Under general direction, with wide latitude fo...  \n",
       "2  Emergency and Intervention Services (EIS) prov...  \n",
       "3  Only candidates who are permanent in the Civil...  \n",
       "4  ** THIS POSTING HAS BEEN EXTENDED - CANDIDATES...  "
      ]
     },
     "execution_count": 135,
     "metadata": {},
     "output_type": "execute_result"
    }
   ],
   "source": [
    "#Concatenate Job Description and Minimum Qualifications\n",
    "jobs['Description'] = jobs['Job Description'] + ' ' + jobs['Minimum Qualifications']\n",
    "jobs.head(5)"
   ]
  },
  {
   "cell_type": "markdown",
   "metadata": {},
   "source": [
    "### Select Input and Target vars"
   ]
  },
  {
   "cell_type": "code",
   "execution_count": 136,
   "metadata": {},
   "outputs": [],
   "source": [
    "inputText = jobs['Description']\n",
    "\n",
    "target = jobs['Salary']"
   ]
  },
  {
   "cell_type": "markdown",
   "metadata": {
    "scrolled": true
   },
   "source": [
    "### Split data into Train/Test"
   ]
  },
  {
   "cell_type": "code",
   "execution_count": 137,
   "metadata": {},
   "outputs": [],
   "source": [
    "from sklearn.model_selection import train_test_split\n",
    "\n",
    "train_set, test_set, train_y, test_y = train_test_split(inputText, target, test_size=0.3, random_state=42)"
   ]
  },
  {
   "cell_type": "code",
   "execution_count": 138,
   "metadata": {},
   "outputs": [
    {
     "data": {
      "text/plain": [
       "((1741,), (1741,))"
      ]
     },
     "execution_count": 138,
     "metadata": {},
     "output_type": "execute_result"
    }
   ],
   "source": [
    "train_set.shape, train_y.shape"
   ]
  },
  {
   "cell_type": "code",
   "execution_count": 139,
   "metadata": {},
   "outputs": [
    {
     "data": {
      "text/plain": [
       "((747,), (747,))"
      ]
     },
     "execution_count": 139,
     "metadata": {},
     "output_type": "execute_result"
    }
   ],
   "source": [
    "test_set.shape, test_y.shape"
   ]
  },
  {
   "cell_type": "markdown",
   "metadata": {},
   "source": [
    "# Text Preparation"
   ]
  },
  {
   "cell_type": "markdown",
   "metadata": {},
   "source": [
    "### Count Vectorizer"
   ]
  },
  {
   "cell_type": "code",
   "execution_count": 140,
   "metadata": {},
   "outputs": [
    {
     "data": {
      "text/plain": [
       "(<1741x10247 sparse matrix of type '<class 'numpy.int64'>'\n",
       " \twith 330736 stored elements in Compressed Sparse Row format>,\n",
       " <747x10247 sparse matrix of type '<class 'numpy.int64'>'\n",
       " \twith 139836 stored elements in Compressed Sparse Row format>)"
      ]
     },
     "execution_count": 140,
     "metadata": {},
     "output_type": "execute_result"
    }
   ],
   "source": [
    "#Countvectorizer includes pre-processing, tokenization, filtering stop words\n",
    "from sklearn.feature_extraction.text import CountVectorizer\n",
    "\n",
    "count_vect = CountVectorizer(stop_words='english')\n",
    "\n",
    "#Fit_transform train\n",
    "train_x_tr = count_vect.fit_transform(train_set)\n",
    "\n",
    "#Transform test\n",
    "test_x_tr = count_vect.transform(test_set)\n",
    "\n",
    "train_x_tr, test_x_tr"
   ]
  },
  {
   "cell_type": "markdown",
   "metadata": {},
   "source": [
    "### TF-IDF Transformer"
   ]
  },
  {
   "cell_type": "code",
   "execution_count": 141,
   "metadata": {},
   "outputs": [
    {
     "data": {
      "text/plain": [
       "((1741, 10247), (747, 10247))"
      ]
     },
     "execution_count": 141,
     "metadata": {},
     "output_type": "execute_result"
    }
   ],
   "source": [
    "from sklearn.feature_extraction.text import TfidfTransformer\n",
    "\n",
    "tf_transformer = TfidfTransformer()\n",
    "\n",
    "#Fit_transform train\n",
    "train_x_tfidf = tf_transformer.fit_transform(train_x_tr)\n",
    "\n",
    "#Transform test\n",
    "test_x_tfidf = tf_transformer.transform(test_x_tr)\n",
    "\n",
    "train_x_tfidf.shape, test_x_tfidf.shape"
   ]
  },
  {
   "cell_type": "markdown",
   "metadata": {},
   "source": [
    "### Singular Value Decomposition"
   ]
  },
  {
   "cell_type": "code",
   "execution_count": 142,
   "metadata": {},
   "outputs": [
    {
     "data": {
      "text/plain": [
       "((1741, 700), (747, 700))"
      ]
     },
     "execution_count": 142,
     "metadata": {},
     "output_type": "execute_result"
    }
   ],
   "source": [
    "from sklearn.decomposition import TruncatedSVD\n",
    "\n",
    "#If you are performing Latent Semantic Analysis, recommended number of components is 100\n",
    "svd = TruncatedSVD(n_components=700, n_iter=10)\n",
    "\n",
    "#Fit_transform train\n",
    "train_x_lsa = svd.fit_transform(train_x_tfidf)\n",
    "\n",
    "#Transform test\n",
    "test_x_lsa = svd.transform(test_x_tfidf)\n",
    "\n",
    "train_x_lsa.shape, test_x_lsa.shape"
   ]
  },
  {
   "cell_type": "code",
   "execution_count": 12,
   "metadata": {},
   "outputs": [
    {
     "data": {
      "text/plain": [
       "0.8545964852948239"
      ]
     },
     "execution_count": 12,
     "metadata": {},
     "output_type": "execute_result"
    }
   ],
   "source": [
    "#Explained Variance\n",
    "svd.explained_variance_.sum()"
   ]
  },
  {
   "cell_type": "markdown",
   "metadata": {},
   "source": [
    "85.5% of the dataset is explained by the SVDs"
   ]
  },
  {
   "cell_type": "markdown",
   "metadata": {},
   "source": [
    "# Determine Baseline Error"
   ]
  },
  {
   "cell_type": "code",
   "execution_count": 13,
   "metadata": {},
   "outputs": [
    {
     "data": {
      "text/plain": [
       "77869.8845491097"
      ]
     },
     "execution_count": 13,
     "metadata": {},
     "output_type": "execute_result"
    }
   ],
   "source": [
    "#Average value of the target\n",
    "mean_value = np.mean(train_y)\n",
    "\n",
    "mean_value"
   ]
  },
  {
   "cell_type": "code",
   "execution_count": 14,
   "metadata": {},
   "outputs": [],
   "source": [
    "# Predict all values as the mean\n",
    "baseline_pred = np.repeat(mean_value, len(test_y))\n"
   ]
  },
  {
   "cell_type": "code",
   "execution_count": 15,
   "metadata": {},
   "outputs": [
    {
     "name": "stdout",
     "output_type": "stream",
     "text": [
      "Baseline RMSE: 30011.38837561802\n"
     ]
    }
   ],
   "source": [
    "from sklearn.metrics import mean_squared_error\n",
    "\n",
    "baseline_mse = mean_squared_error(test_y, baseline_pred)\n",
    "\n",
    "baseline_rmse = np.sqrt(baseline_mse)\n",
    "\n",
    "print('Baseline RMSE: {}' .format(baseline_rmse))"
   ]
  },
  {
   "cell_type": "markdown",
   "metadata": {},
   "source": [
    "Baseline error is about $30k"
   ]
  },
  {
   "cell_type": "markdown",
   "metadata": {},
   "source": [
    "# Model 1 - Random Forest"
   ]
  },
  {
   "cell_type": "code",
   "execution_count": 19,
   "metadata": {},
   "outputs": [],
   "source": [
    "from sklearn.ensemble import RandomForestRegressor\n",
    "from sklearn.model_selection import GridSearchCV\n",
    "from sklearn.model_selection import RandomizedSearchCV\n",
    "from scipy.stats import randint"
   ]
  },
  {
   "cell_type": "code",
   "execution_count": 65,
   "metadata": {},
   "outputs": [
    {
     "name": "stdout",
     "output_type": "stream",
     "text": [
      "Fitting 2 folds for each of 50 candidates, totalling 100 fits\n"
     ]
    },
    {
     "name": "stderr",
     "output_type": "stream",
     "text": [
      "[Parallel(n_jobs=-1)]: Using backend LokyBackend with 8 concurrent workers.\n",
      "[Parallel(n_jobs=-1)]: Done  34 tasks      | elapsed:  5.8min\n",
      "[Parallel(n_jobs=-1)]: Done 100 out of 100 | elapsed: 15.7min finished\n"
     ]
    },
    {
     "data": {
      "text/plain": [
       "RandomizedSearchCV(cv=2, error_score='raise-deprecating',\n",
       "                   estimator=RandomForestRegressor(bootstrap=True,\n",
       "                                                   criterion='mse',\n",
       "                                                   max_depth=None,\n",
       "                                                   max_features='auto',\n",
       "                                                   max_leaf_nodes=None,\n",
       "                                                   min_impurity_decrease=0.0,\n",
       "                                                   min_impurity_split=None,\n",
       "                                                   min_samples_leaf=1,\n",
       "                                                   min_samples_split=2,\n",
       "                                                   min_weight_fraction_leaf=0.0,\n",
       "                                                   n_estimators='warn',\n",
       "                                                   n_jobs=None, oob_score=False,\n",
       "                                                   random_sta...\n",
       "                   iid='warn', n_iter=50, n_jobs=-1,\n",
       "                   param_distributions={'max_depth': <scipy.stats._distn_infrastructure.rv_frozen object at 0x000001FD98093E88>,\n",
       "                                        'max_features': ['auto', 'sqrt'],\n",
       "                                        'n_estimators': <scipy.stats._distn_infrastructure.rv_frozen object at 0x000001FD980932C8>},\n",
       "                   pre_dispatch='2*n_jobs', random_state=None, refit=True,\n",
       "                   return_train_score=True, scoring='neg_mean_squared_error',\n",
       "                   verbose=1)"
      ]
     },
     "execution_count": 65,
     "metadata": {},
     "output_type": "execute_result"
    }
   ],
   "source": [
    "#Randomized Search\n",
    "param_grid = {'n_estimators': randint(100,1000),    \n",
    "              #'max_leaf_nodes': randint(2,8),\n",
    "              'max_features': ['auto','sqrt'],\n",
    "              'max_depth': randint(4,10)\n",
    "             }\n",
    "\n",
    "rf = RandomizedSearchCV(estimator=RandomForestRegressor(),\n",
    "                  param_distributions=param_grid,\n",
    "                  n_iter=50,\n",
    "                  cv=2,\n",
    "                  return_train_score=True,\n",
    "                  scoring='neg_mean_squared_error',\n",
    "                  n_jobs=-1,\n",
    "                  verbose=1\n",
    "                )\n",
    "\n",
    "#rf = RandomForestRegressor(n_estimators=1000, max_depth=5 , max_leaf_nodes=5, n_jobs=-1) \n",
    "\n",
    "rf.fit(train_x_lsa, train_y)"
   ]
  },
  {
   "cell_type": "code",
   "execution_count": 66,
   "metadata": {},
   "outputs": [
    {
     "data": {
      "text/plain": [
       "{'max_depth': 9, 'max_features': 'auto', 'n_estimators': 401}"
      ]
     },
     "execution_count": 66,
     "metadata": {},
     "output_type": "execute_result"
    }
   ],
   "source": [
    "#Find the best parameter set\n",
    "rf.best_params_"
   ]
  },
  {
   "cell_type": "code",
   "execution_count": 67,
   "metadata": {},
   "outputs": [
    {
     "data": {
      "text/plain": [
       "RandomForestRegressor(bootstrap=True, criterion='mse', max_depth=9,\n",
       "                      max_features='auto', max_leaf_nodes=None,\n",
       "                      min_impurity_decrease=0.0, min_impurity_split=None,\n",
       "                      min_samples_leaf=1, min_samples_split=2,\n",
       "                      min_weight_fraction_leaf=0.0, n_estimators=401,\n",
       "                      n_jobs=None, oob_score=False, random_state=None,\n",
       "                      verbose=0, warm_start=False)"
      ]
     },
     "execution_count": 67,
     "metadata": {},
     "output_type": "execute_result"
    }
   ],
   "source": [
    "rf.best_estimator_"
   ]
  },
  {
   "cell_type": "code",
   "execution_count": 68,
   "metadata": {
    "scrolled": true
   },
   "outputs": [
    {
     "name": "stdout",
     "output_type": "stream",
     "text": [
      "Train RMSE: 11169.971900223127\n"
     ]
    }
   ],
   "source": [
    "#Train RMSE\n",
    "train_y_pred = rf.best_estimator_.predict(train_x_lsa)\n",
    "\n",
    "train_mse = mean_squared_error(train_y, train_y_pred)\n",
    "\n",
    "train_rmse = np.sqrt(train_mse)\n",
    "\n",
    "print('Train RMSE: {}' .format(train_rmse))"
   ]
  },
  {
   "cell_type": "code",
   "execution_count": 69,
   "metadata": {},
   "outputs": [
    {
     "name": "stdout",
     "output_type": "stream",
     "text": [
      "Test RMSE: 18032.222139214828\n"
     ]
    }
   ],
   "source": [
    "#Test RMSE\n",
    "test_y_pred = rf.best_estimator_.predict(test_x_lsa)\n",
    "\n",
    "test_mse = mean_squared_error(test_y, test_y_pred)\n",
    "\n",
    "test_rmse = np.sqrt(test_mse)\n",
    "\n",
    "print('Test RMSE: {}' .format(test_rmse))"
   ]
  },
  {
   "cell_type": "markdown",
   "metadata": {},
   "source": [
    "# Model 2 - SGD Regressor"
   ]
  },
  {
   "cell_type": "code",
   "execution_count": 21,
   "metadata": {},
   "outputs": [
    {
     "name": "stdout",
     "output_type": "stream",
     "text": [
      "Fitting 2 folds for each of 500 candidates, totalling 1000 fits\n"
     ]
    },
    {
     "name": "stderr",
     "output_type": "stream",
     "text": [
      "[Parallel(n_jobs=-1)]: Using backend LokyBackend with 8 concurrent workers.\n",
      "[Parallel(n_jobs=-1)]: Done  34 tasks      | elapsed:   14.2s\n",
      "[Parallel(n_jobs=-1)]: Done 184 tasks      | elapsed:  1.1min\n",
      "[Parallel(n_jobs=-1)]: Done 434 tasks      | elapsed:  2.5min\n",
      "[Parallel(n_jobs=-1)]: Done 784 tasks      | elapsed:  4.5min\n",
      "[Parallel(n_jobs=-1)]: Done 1000 out of 1000 | elapsed:  5.7min finished\n",
      "C:\\Users\\ajohnson\\AppData\\Local\\Continuum\\anaconda3\\lib\\site-packages\\sklearn\\model_selection\\_search.py:814: DeprecationWarning: The default of the `iid` parameter will change from True to False in version 0.22 and will be removed in 0.24. This will change numeric results when test-set sizes are unequal.\n",
      "  DeprecationWarning)\n",
      "C:\\Users\\ajohnson\\AppData\\Local\\Continuum\\anaconda3\\lib\\site-packages\\sklearn\\linear_model\\stochastic_gradient.py:1185: ConvergenceWarning: Maximum number of iteration reached before convergence. Consider increasing max_iter to improve the fit.\n",
      "  ConvergenceWarning)\n"
     ]
    },
    {
     "data": {
      "text/plain": [
       "RandomizedSearchCV(cv=2, error_score='raise-deprecating',\n",
       "                   estimator=SGDRegressor(alpha=0.0001, average=False,\n",
       "                                          early_stopping=False, epsilon=0.1,\n",
       "                                          eta0=0.01, fit_intercept=True,\n",
       "                                          l1_ratio=0.15,\n",
       "                                          learning_rate='invscaling',\n",
       "                                          loss='squared_loss', max_iter=1000,\n",
       "                                          n_iter_no_change=5, penalty='l2',\n",
       "                                          power_t=0.25, random_state=None,\n",
       "                                          shuffle=True, tol=0.001,\n",
       "                                          validation_fraction=0.1, verbose=0,\n",
       "                                          warm_start=False),\n",
       "                   iid='warn', n_iter=500, n_jobs=-1,\n",
       "                   param_distributions={'learning_rate': ['constant',\n",
       "                                                          'invscaling',\n",
       "                                                          'adaptive',\n",
       "                                                          'optimal'],\n",
       "                                        'max_iter': <scipy.stats._distn_infrastructure.rv_frozen object at 0x000001FD95DEC208>},\n",
       "                   pre_dispatch='2*n_jobs', random_state=None, refit=True,\n",
       "                   return_train_score=True, scoring='neg_mean_squared_error',\n",
       "                   verbose=1)"
      ]
     },
     "execution_count": 21,
     "metadata": {},
     "output_type": "execute_result"
    }
   ],
   "source": [
    "from sklearn.linear_model import SGDRegressor\n",
    "from numpy import random\n",
    "\n",
    "#Randomized Search\n",
    "param_grid = {'max_iter': randint(500,2000),    \n",
    "              'learning_rate': ['constant','invscaling','adaptive','optimal']\n",
    "             }\n",
    "\n",
    "sgd = RandomizedSearchCV(estimator=SGDRegressor(),\n",
    "                  param_distributions=param_grid,\n",
    "                  n_iter=500,\n",
    "                  cv=2,\n",
    "                  return_train_score=True,\n",
    "                  scoring='neg_mean_squared_error',\n",
    "                  n_jobs=-1,\n",
    "                  verbose=1\n",
    "                )\n",
    "\n",
    "#sgd = SGDRegressor(max_iter=300, eta0=0.2, learning_rate='adaptive', tol=1e-3)\n",
    "\n",
    "sgd.fit(train_x_lsa, train_y)"
   ]
  },
  {
   "cell_type": "code",
   "execution_count": 22,
   "metadata": {},
   "outputs": [
    {
     "data": {
      "text/plain": [
       "{'learning_rate': 'invscaling', 'max_iter': 1963}"
      ]
     },
     "execution_count": 22,
     "metadata": {},
     "output_type": "execute_result"
    }
   ],
   "source": [
    "#Find the best parameter set\n",
    "sgd.best_params_"
   ]
  },
  {
   "cell_type": "code",
   "execution_count": 23,
   "metadata": {},
   "outputs": [
    {
     "data": {
      "text/plain": [
       "SGDRegressor(alpha=0.0001, average=False, early_stopping=False, epsilon=0.1,\n",
       "             eta0=0.01, fit_intercept=True, l1_ratio=0.15,\n",
       "             learning_rate='invscaling', loss='squared_loss', max_iter=1963,\n",
       "             n_iter_no_change=5, penalty='l2', power_t=0.25, random_state=None,\n",
       "             shuffle=True, tol=0.001, validation_fraction=0.1, verbose=0,\n",
       "             warm_start=False)"
      ]
     },
     "execution_count": 23,
     "metadata": {},
     "output_type": "execute_result"
    }
   ],
   "source": [
    "sgd.best_estimator_"
   ]
  },
  {
   "cell_type": "code",
   "execution_count": 24,
   "metadata": {},
   "outputs": [
    {
     "name": "stdout",
     "output_type": "stream",
     "text": [
      "Train RMSE: 14302.778451357584\n"
     ]
    }
   ],
   "source": [
    "#Train RMSE\n",
    "train_y_pred = sgd.best_estimator_.predict(train_x_lsa)\n",
    "\n",
    "train_mse = mean_squared_error(train_y, train_y_pred)\n",
    "\n",
    "train_rmse = np.sqrt(train_mse)\n",
    "\n",
    "print('Train RMSE: {}' .format(train_rmse))"
   ]
  },
  {
   "cell_type": "code",
   "execution_count": 25,
   "metadata": {},
   "outputs": [
    {
     "name": "stdout",
     "output_type": "stream",
     "text": [
      "Test RMSE: 17464.745530405722\n"
     ]
    }
   ],
   "source": [
    "#Test RMSE\n",
    "test_y_pred = sgd.best_estimator_.predict(test_x_lsa)\n",
    "\n",
    "test_mse = mean_squared_error(test_y, test_y_pred)\n",
    "\n",
    "test_rmse = np.sqrt(test_mse)\n",
    "\n",
    "print('Test RMSE: {}' .format(test_rmse))"
   ]
  },
  {
   "cell_type": "markdown",
   "metadata": {},
   "source": [
    "# Model 3 - Neural Network"
   ]
  },
  {
   "cell_type": "code",
   "execution_count": 170,
   "metadata": {},
   "outputs": [
    {
     "name": "stdout",
     "output_type": "stream",
     "text": [
      "Fitting 3 folds for each of 12 candidates, totalling 36 fits\n"
     ]
    },
    {
     "name": "stderr",
     "output_type": "stream",
     "text": [
      "[Parallel(n_jobs=-1)]: Using backend LokyBackend with 8 concurrent workers.\n",
      "[Parallel(n_jobs=-1)]: Done  36 out of  36 | elapsed:   34.3s finished\n"
     ]
    },
    {
     "data": {
      "text/plain": [
       "GridSearchCV(cv=3, error_score='raise-deprecating',\n",
       "             estimator=MLPRegressor(activation='relu', alpha=0.0001,\n",
       "                                    batch_size='auto', beta_1=0.9, beta_2=0.999,\n",
       "                                    early_stopping=False, epsilon=1e-08,\n",
       "                                    hidden_layer_sizes=(100,),\n",
       "                                    learning_rate='constant',\n",
       "                                    learning_rate_init=0.001, max_iter=200,\n",
       "                                    momentum=0.9, n_iter_no_change=10,\n",
       "                                    nesterovs_momentum=True, power_t=0.5,\n",
       "                                    random_stat...\n",
       "                                    solver='adam', tol=0.0001,\n",
       "                                    validation_fraction=0.1, verbose=False,\n",
       "                                    warm_start=False),\n",
       "             iid='warn', n_jobs=-1,\n",
       "             param_grid={'activation': ['relu', 'tanh'],\n",
       "                         'hidden_layer_sizes': [(50, 50, 50)],\n",
       "                         'learning_rate': ['constant', 'invscaling',\n",
       "                                           'adaptive'],\n",
       "                         'solver': ['lbfgs', 'adam']},\n",
       "             pre_dispatch='2*n_jobs', refit=True, return_train_score=True,\n",
       "             scoring='neg_mean_squared_error', verbose=True)"
      ]
     },
     "execution_count": 170,
     "metadata": {},
     "output_type": "execute_result"
    }
   ],
   "source": [
    "from sklearn.neural_network import MLPRegressor\n",
    "from sklearn.model_selection import GridSearchCV\n",
    "\n",
    "#Grid Search\n",
    "param_grid = {\n",
    "'learning_rate': [\"constant\", \"invscaling\", \"adaptive\"],\n",
    "'hidden_layer_sizes': [(50,50,50)],\n",
    "#'alpha': [.005,.01,.015],\n",
    "'activation': [\"relu\",\"tanh\"],\n",
    "'solver': ['lbfgs','adam']\n",
    "}\n",
    "\n",
    "nn = GridSearchCV(estimator=MLPRegressor(),\n",
    "                      param_grid=param_grid,\n",
    "                      n_jobs=-1,\n",
    "                      cv=3, \n",
    "                      scoring='neg_mean_squared_error',\n",
    "                      return_train_score=True,\n",
    "                      verbose=True)\n",
    "\n",
    "nn.fit(train_x_lsa, train_y)"
   ]
  },
  {
   "cell_type": "code",
   "execution_count": 171,
   "metadata": {},
   "outputs": [
    {
     "data": {
      "text/plain": [
       "{'activation': 'relu',\n",
       " 'hidden_layer_sizes': (50, 50, 50),\n",
       " 'learning_rate': 'constant',\n",
       " 'solver': 'lbfgs'}"
      ]
     },
     "execution_count": 171,
     "metadata": {},
     "output_type": "execute_result"
    }
   ],
   "source": [
    "#Find the best parameter set\n",
    "nn.best_params_"
   ]
  },
  {
   "cell_type": "code",
   "execution_count": 172,
   "metadata": {},
   "outputs": [
    {
     "data": {
      "text/plain": [
       "MLPRegressor(activation='relu', alpha=0.0001, batch_size='auto', beta_1=0.9,\n",
       "             beta_2=0.999, early_stopping=False, epsilon=1e-08,\n",
       "             hidden_layer_sizes=(50, 50, 50), learning_rate='constant',\n",
       "             learning_rate_init=0.001, max_iter=200, momentum=0.9,\n",
       "             n_iter_no_change=10, nesterovs_momentum=True, power_t=0.5,\n",
       "             random_state=None, shuffle=True, solver='lbfgs', tol=0.0001,\n",
       "             validation_fraction=0.1, verbose=False, warm_start=False)"
      ]
     },
     "execution_count": 172,
     "metadata": {},
     "output_type": "execute_result"
    }
   ],
   "source": [
    "nn.best_estimator_"
   ]
  },
  {
   "cell_type": "code",
   "execution_count": 173,
   "metadata": {},
   "outputs": [
    {
     "name": "stdout",
     "output_type": "stream",
     "text": [
      "Train RMSE: 4838.917418579043\n"
     ]
    }
   ],
   "source": [
    "#Train RMSE\n",
    "train_y_pred = nn.best_estimator_.predict(train_x_lsa)\n",
    "\n",
    "train_mse = mean_squared_error(train_y, train_y_pred)\n",
    "\n",
    "train_rmse = np.sqrt(train_mse)\n",
    "\n",
    "print('Train RMSE: {}' .format(train_rmse))"
   ]
  },
  {
   "cell_type": "code",
   "execution_count": 174,
   "metadata": {},
   "outputs": [
    {
     "name": "stdout",
     "output_type": "stream",
     "text": [
      "Test RMSE: 13640.333525396956\n"
     ]
    }
   ],
   "source": [
    "#Test RMSE\n",
    "test_y_pred = nn.best_estimator_.predict(test_x_lsa)\n",
    "\n",
    "test_mse = mean_squared_error(test_y, test_y_pred)\n",
    "\n",
    "test_rmse = np.sqrt(test_mse)\n",
    "\n",
    "print('Test RMSE: {}' .format(test_rmse))"
   ]
  },
  {
   "cell_type": "raw",
   "metadata": {},
   "source": [
    "Model 3, the neural network, performs best out of the three models because it achieves a test RMSE of $13,640, compared to the RMSEs of $18,032 and $17,464 for the random forest and SGD models respectively. The neural network reduces the RMSE by more than half compared to the baseline of $30k. Some overfitting is present in each model, with a difference of about $8.8k error between train in test in the neural network model."
   ]
  },
  {
   "cell_type": "markdown",
   "metadata": {},
   "source": [
    "### Prepare Competition Dataset"
   ]
  },
  {
   "cell_type": "code",
   "execution_count": 180,
   "metadata": {},
   "outputs": [],
   "source": [
    "comp = pd.read_csv('nyc-jobs-competition.csv')"
   ]
  },
  {
   "cell_type": "code",
   "execution_count": 144,
   "metadata": {},
   "outputs": [
    {
     "data": {
      "text/html": [
       "<div>\n",
       "<style scoped>\n",
       "    .dataframe tbody tr th:only-of-type {\n",
       "        vertical-align: middle;\n",
       "    }\n",
       "\n",
       "    .dataframe tbody tr th {\n",
       "        vertical-align: top;\n",
       "    }\n",
       "\n",
       "    .dataframe thead th {\n",
       "        text-align: right;\n",
       "    }\n",
       "</style>\n",
       "<table border=\"1\" class=\"dataframe\">\n",
       "  <thead>\n",
       "    <tr style=\"text-align: right;\">\n",
       "      <th></th>\n",
       "      <th>Job ID</th>\n",
       "      <th>Salary</th>\n",
       "      <th>Job Description</th>\n",
       "      <th>Minimum Qualifications</th>\n",
       "      <th>Description</th>\n",
       "    </tr>\n",
       "  </thead>\n",
       "  <tbody>\n",
       "    <tr>\n",
       "      <td>0</td>\n",
       "      <td>398564</td>\n",
       "      <td>NaN</td>\n",
       "      <td>In December 2018, Mayor de Blasio and New York...</td>\n",
       "      <td>1. A baccalaureate degree from an accredited c...</td>\n",
       "      <td>In December 2018, Mayor de Blasio and New York...</td>\n",
       "    </tr>\n",
       "    <tr>\n",
       "      <td>1</td>\n",
       "      <td>308043</td>\n",
       "      <td>NaN</td>\n",
       "      <td>Under the direction of the Executive Director,...</td>\n",
       "      <td>1. A baccalaureate degree from an accredited c...</td>\n",
       "      <td>Under the direction of the Executive Director,...</td>\n",
       "    </tr>\n",
       "    <tr>\n",
       "      <td>2</td>\n",
       "      <td>400827</td>\n",
       "      <td>NaN</td>\n",
       "      <td>The Family Independence Administration (FIA) i...</td>\n",
       "      <td>1. A baccalaureate degree from an accredited c...</td>\n",
       "      <td>The Family Independence Administration (FIA) i...</td>\n",
       "    </tr>\n",
       "    <tr>\n",
       "      <td>3</td>\n",
       "      <td>372029</td>\n",
       "      <td>NaN</td>\n",
       "      <td>The NYC Mayorâ€™s Office of Environmental Reme...</td>\n",
       "      <td>Professional/Vendor Certification, Education a...</td>\n",
       "      <td>The NYC Mayorâ€™s Office of Environmental Reme...</td>\n",
       "    </tr>\n",
       "    <tr>\n",
       "      <td>4</td>\n",
       "      <td>368207</td>\n",
       "      <td>NaN</td>\n",
       "      <td>The NYC Department of Environmental Protection...</td>\n",
       "      <td>(1) A four-year high school diploma or its edu...</td>\n",
       "      <td>The NYC Department of Environmental Protection...</td>\n",
       "    </tr>\n",
       "  </tbody>\n",
       "</table>\n",
       "</div>"
      ],
      "text/plain": [
       "   Job ID  Salary                                    Job Description  \\\n",
       "0  398564     NaN  In December 2018, Mayor de Blasio and New York...   \n",
       "1  308043     NaN  Under the direction of the Executive Director,...   \n",
       "2  400827     NaN  The Family Independence Administration (FIA) i...   \n",
       "3  372029     NaN  The NYC Mayorâ€™s Office of Environmental Reme...   \n",
       "4  368207     NaN  The NYC Department of Environmental Protection...   \n",
       "\n",
       "                              Minimum Qualifications  \\\n",
       "0  1. A baccalaureate degree from an accredited c...   \n",
       "1  1. A baccalaureate degree from an accredited c...   \n",
       "2  1. A baccalaureate degree from an accredited c...   \n",
       "3  Professional/Vendor Certification, Education a...   \n",
       "4  (1) A four-year high school diploma or its edu...   \n",
       "\n",
       "                                         Description  \n",
       "0  In December 2018, Mayor de Blasio and New York...  \n",
       "1  Under the direction of the Executive Director,...  \n",
       "2  The Family Independence Administration (FIA) i...  \n",
       "3  The NYC Mayorâ€™s Office of Environmental Reme...  \n",
       "4  The NYC Department of Environmental Protection...  "
      ]
     },
     "execution_count": 144,
     "metadata": {},
     "output_type": "execute_result"
    }
   ],
   "source": [
    "#Concatenate Job Description and Minimum Qualifications\n",
    "comp['Description'] = comp['Job Description'] + ' ' + comp['Minimum Qualifications']\n",
    "comp.head(5)"
   ]
  },
  {
   "cell_type": "code",
   "execution_count": 145,
   "metadata": {},
   "outputs": [],
   "source": [
    "compText = comp['Description']"
   ]
  },
  {
   "cell_type": "code",
   "execution_count": 146,
   "metadata": {},
   "outputs": [
    {
     "data": {
      "text/plain": [
       "0     In December 2018, Mayor de Blasio and New York...\n",
       "1     Under the direction of the Executive Director,...\n",
       "2     The Family Independence Administration (FIA) i...\n",
       "3     The NYC Mayorâ€™s Office of Environmental Reme...\n",
       "4     The NYC Department of Environmental Protection...\n",
       "                            ...                        \n",
       "86    The duties and responsibilities of this positi...\n",
       "87    The Commission on Human Rights (the Commission...\n",
       "88    Reporting to the Deputy Director of Training a...\n",
       "89    Directs and manages the Facilities Central sec...\n",
       "90    The Bureau of Asset Management (BAM) is respon...\n",
       "Name: Description, Length: 91, dtype: object"
      ]
     },
     "execution_count": 146,
     "metadata": {},
     "output_type": "execute_result"
    }
   ],
   "source": [
    "compText"
   ]
  },
  {
   "cell_type": "markdown",
   "metadata": {},
   "source": [
    "### Count Vectorizer"
   ]
  },
  {
   "cell_type": "code",
   "execution_count": 147,
   "metadata": {},
   "outputs": [],
   "source": [
    "txt_tr = count_vect.transform(compText)"
   ]
  },
  {
   "cell_type": "code",
   "execution_count": 148,
   "metadata": {},
   "outputs": [
    {
     "data": {
      "text/plain": [
       "<91x10247 sparse matrix of type '<class 'numpy.int64'>'\n",
       "\twith 16140 stored elements in Compressed Sparse Row format>"
      ]
     },
     "execution_count": 148,
     "metadata": {},
     "output_type": "execute_result"
    }
   ],
   "source": [
    "txt_tr"
   ]
  },
  {
   "cell_type": "markdown",
   "metadata": {},
   "source": [
    "### TF-IDF Transformer"
   ]
  },
  {
   "cell_type": "code",
   "execution_count": 149,
   "metadata": {},
   "outputs": [],
   "source": [
    "txt_tfidf = tf_transformer.transform(txt_tr)"
   ]
  },
  {
   "cell_type": "code",
   "execution_count": 150,
   "metadata": {},
   "outputs": [
    {
     "data": {
      "text/plain": [
       "<91x10247 sparse matrix of type '<class 'numpy.float64'>'\n",
       "\twith 16140 stored elements in Compressed Sparse Row format>"
      ]
     },
     "execution_count": 150,
     "metadata": {},
     "output_type": "execute_result"
    }
   ],
   "source": [
    "txt_tfidf"
   ]
  },
  {
   "cell_type": "markdown",
   "metadata": {},
   "source": [
    "### Singular Value Decomposition"
   ]
  },
  {
   "cell_type": "code",
   "execution_count": 151,
   "metadata": {},
   "outputs": [
    {
     "data": {
      "text/plain": [
       "(91, 700)"
      ]
     },
     "execution_count": 151,
     "metadata": {},
     "output_type": "execute_result"
    }
   ],
   "source": [
    "txt_lsa = svd.transform(txt_tfidf)\n",
    "\n",
    "txt_lsa.shape"
   ]
  },
  {
   "cell_type": "code",
   "execution_count": 152,
   "metadata": {},
   "outputs": [
    {
     "data": {
      "text/plain": [
       "array([[ 2.68535216e-01, -1.08917370e-01, -1.36105683e-01, ...,\n",
       "        -1.55291293e-02,  1.36466342e-03, -1.15462475e-02],\n",
       "       [ 3.00875198e-01, -1.68737983e-01, -5.24292502e-02, ...,\n",
       "         2.05461558e-02,  1.05916289e-02,  6.69093568e-03],\n",
       "       [ 2.11198097e-01, -1.05998770e-01, -4.58127598e-02, ...,\n",
       "        -5.89131765e-03,  2.71908238e-02, -9.77491840e-03],\n",
       "       ...,\n",
       "       [ 1.84506258e-01, -1.27393041e-01, -5.63322898e-02, ...,\n",
       "        -9.96287538e-03,  4.52857980e-02, -1.59912501e-02],\n",
       "       [ 2.98570840e-01, -1.34086491e-01, -6.63395433e-02, ...,\n",
       "        -7.58661450e-03,  6.03194351e-03, -1.05503595e-02],\n",
       "       [ 1.83805532e-01, -7.84787016e-02, -5.09173931e-02, ...,\n",
       "         2.16936085e-02, -1.09304449e-05, -3.97172159e-03]])"
      ]
     },
     "execution_count": 152,
     "metadata": {},
     "output_type": "execute_result"
    }
   ],
   "source": [
    "txt_lsa"
   ]
  },
  {
   "cell_type": "markdown",
   "metadata": {},
   "source": [
    "### Predict Salary"
   ]
  },
  {
   "cell_type": "code",
   "execution_count": 175,
   "metadata": {},
   "outputs": [],
   "source": [
    "#Predict comp data set with best NN model\n",
    "salary_pred = nn.best_estimator_.predict(txt_lsa)"
   ]
  },
  {
   "cell_type": "code",
   "execution_count": 183,
   "metadata": {},
   "outputs": [],
   "source": [
    "#Replace Salary column with predictions\n",
    "comp['Salary']=salary_pred"
   ]
  },
  {
   "cell_type": "code",
   "execution_count": 189,
   "metadata": {},
   "outputs": [],
   "source": [
    "#Drop unnecessary columns\n",
    "comp = comp.drop(['Job Description','Minimum Qualifications'], axis=1)"
   ]
  },
  {
   "cell_type": "code",
   "execution_count": 190,
   "metadata": {},
   "outputs": [
    {
     "data": {
      "text/html": [
       "<div>\n",
       "<style scoped>\n",
       "    .dataframe tbody tr th:only-of-type {\n",
       "        vertical-align: middle;\n",
       "    }\n",
       "\n",
       "    .dataframe tbody tr th {\n",
       "        vertical-align: top;\n",
       "    }\n",
       "\n",
       "    .dataframe thead th {\n",
       "        text-align: right;\n",
       "    }\n",
       "</style>\n",
       "<table border=\"1\" class=\"dataframe\">\n",
       "  <thead>\n",
       "    <tr style=\"text-align: right;\">\n",
       "      <th></th>\n",
       "      <th>Job ID</th>\n",
       "      <th>Salary</th>\n",
       "    </tr>\n",
       "  </thead>\n",
       "  <tbody>\n",
       "    <tr>\n",
       "      <td>0</td>\n",
       "      <td>398564</td>\n",
       "      <td>81633.565112</td>\n",
       "    </tr>\n",
       "    <tr>\n",
       "      <td>1</td>\n",
       "      <td>308043</td>\n",
       "      <td>84914.940623</td>\n",
       "    </tr>\n",
       "    <tr>\n",
       "      <td>2</td>\n",
       "      <td>400827</td>\n",
       "      <td>69082.909554</td>\n",
       "    </tr>\n",
       "    <tr>\n",
       "      <td>3</td>\n",
       "      <td>372029</td>\n",
       "      <td>105795.121459</td>\n",
       "    </tr>\n",
       "    <tr>\n",
       "      <td>4</td>\n",
       "      <td>368207</td>\n",
       "      <td>71224.181872</td>\n",
       "    </tr>\n",
       "    <tr>\n",
       "      <td>...</td>\n",
       "      <td>...</td>\n",
       "      <td>...</td>\n",
       "    </tr>\n",
       "    <tr>\n",
       "      <td>86</td>\n",
       "      <td>269889</td>\n",
       "      <td>80483.420393</td>\n",
       "    </tr>\n",
       "    <tr>\n",
       "      <td>87</td>\n",
       "      <td>395905</td>\n",
       "      <td>68597.559357</td>\n",
       "    </tr>\n",
       "    <tr>\n",
       "      <td>88</td>\n",
       "      <td>387857</td>\n",
       "      <td>59366.191122</td>\n",
       "    </tr>\n",
       "    <tr>\n",
       "      <td>89</td>\n",
       "      <td>390805</td>\n",
       "      <td>70715.283587</td>\n",
       "    </tr>\n",
       "    <tr>\n",
       "      <td>90</td>\n",
       "      <td>384671</td>\n",
       "      <td>63917.053512</td>\n",
       "    </tr>\n",
       "  </tbody>\n",
       "</table>\n",
       "<p>91 rows × 2 columns</p>\n",
       "</div>"
      ],
      "text/plain": [
       "    Job ID         Salary\n",
       "0   398564   81633.565112\n",
       "1   308043   84914.940623\n",
       "2   400827   69082.909554\n",
       "3   372029  105795.121459\n",
       "4   368207   71224.181872\n",
       "..     ...            ...\n",
       "86  269889   80483.420393\n",
       "87  395905   68597.559357\n",
       "88  387857   59366.191122\n",
       "89  390805   70715.283587\n",
       "90  384671   63917.053512\n",
       "\n",
       "[91 rows x 2 columns]"
      ]
     },
     "execution_count": 190,
     "metadata": {},
     "output_type": "execute_result"
    }
   ],
   "source": [
    "comp"
   ]
  },
  {
   "cell_type": "code",
   "execution_count": 192,
   "metadata": {},
   "outputs": [],
   "source": [
    "#Output to CSV\n",
    "comp.to_csv(\"johnson_nyc_competition.csv\",index=False)"
   ]
  }
 ],
 "metadata": {
  "kernelspec": {
   "display_name": "Python 3",
   "language": "python",
   "name": "python3"
  },
  "language_info": {
   "codemirror_mode": {
    "name": "ipython",
    "version": 3
   },
   "file_extension": ".py",
   "mimetype": "text/x-python",
   "name": "python",
   "nbconvert_exporter": "python",
   "pygments_lexer": "ipython3",
   "version": "3.8.3"
  },
  "nav_menu": {
   "height": "279px",
   "width": "309px"
  },
  "toc": {
   "nav_menu": {},
   "number_sections": true,
   "sideBar": true,
   "skip_h1_title": false,
   "toc_cell": false,
   "toc_position": {},
   "toc_section_display": "block",
   "toc_window_display": false
  }
 },
 "nbformat": 4,
 "nbformat_minor": 1
}
