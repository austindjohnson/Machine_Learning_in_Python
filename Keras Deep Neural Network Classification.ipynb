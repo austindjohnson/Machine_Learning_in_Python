{
 "cells": [
  {
   "cell_type": "markdown",
   "metadata": {},
   "source": [
    "# Keras Deep Neural Network - Classification\n"
   ]
  },
  {
   "cell_type": "markdown",
   "metadata": {},
   "source": [
    "This data set is made available by Universita di Bologna. It contains data about smarthphone sensors as people are using different modes of transportation. Each row represents a specific mode of transportation and the corresponding readings in the smartphone sensors (for that mode of transportation). Multiclass classification task: predict whether the mode of transportation based on a smartphone's sensor readings. Transportation mode prediction can provide context information to enhance applications and provide a better user experience. It can be crucial for many different applications, such as device profiling, monitoring road and traffic conditions, healthcare, travel support etc."
   ]
  },
  {
   "cell_type": "markdown",
   "metadata": {},
   "source": [
    "# Read and Prepare the Data"
   ]
  },
  {
   "cell_type": "code",
   "execution_count": 1,
   "metadata": {},
   "outputs": [
    {
     "data": {
      "text/html": [
       "<div>\n",
       "<style scoped>\n",
       "    .dataframe tbody tr th:only-of-type {\n",
       "        vertical-align: middle;\n",
       "    }\n",
       "\n",
       "    .dataframe tbody tr th {\n",
       "        vertical-align: top;\n",
       "    }\n",
       "\n",
       "    .dataframe thead th {\n",
       "        text-align: right;\n",
       "    }\n",
       "</style>\n",
       "<table border=\"1\" class=\"dataframe\">\n",
       "  <thead>\n",
       "    <tr style=\"text-align: right;\">\n",
       "      <th></th>\n",
       "      <th>time</th>\n",
       "      <th>androidsensoraccelerometermean</th>\n",
       "      <th>androidsensoraccelerometermin</th>\n",
       "      <th>androidsensoraccelerometermax</th>\n",
       "      <th>androidsensoraccelerometerstd</th>\n",
       "      <th>androidsensorgyroscopemean</th>\n",
       "      <th>androidsensorgyroscopemin</th>\n",
       "      <th>androidsensorgyroscopemax</th>\n",
       "      <th>androidsensorgyroscopestd</th>\n",
       "      <th>soundmean</th>\n",
       "      <th>soundmin</th>\n",
       "      <th>soundmax</th>\n",
       "      <th>soundstd</th>\n",
       "      <th>target</th>\n",
       "    </tr>\n",
       "  </thead>\n",
       "  <tbody>\n",
       "    <tr>\n",
       "      <th>0</th>\n",
       "      <td>78</td>\n",
       "      <td>9.811476</td>\n",
       "      <td>9.758895</td>\n",
       "      <td>9.849411</td>\n",
       "      <td>0.014626</td>\n",
       "      <td>0.001651</td>\n",
       "      <td>0.000000</td>\n",
       "      <td>0.003533</td>\n",
       "      <td>0.000737</td>\n",
       "      <td>0.000000</td>\n",
       "      <td>0.000000</td>\n",
       "      <td>0.000000</td>\n",
       "      <td>0.000000</td>\n",
       "      <td>Still</td>\n",
       "    </tr>\n",
       "    <tr>\n",
       "      <th>1</th>\n",
       "      <td>145</td>\n",
       "      <td>9.939207</td>\n",
       "      <td>7.707437</td>\n",
       "      <td>17.146631</td>\n",
       "      <td>1.775944</td>\n",
       "      <td>0.036326</td>\n",
       "      <td>0.011669</td>\n",
       "      <td>0.059388</td>\n",
       "      <td>0.020290</td>\n",
       "      <td>89.200210</td>\n",
       "      <td>89.065143</td>\n",
       "      <td>89.335277</td>\n",
       "      <td>0.191013</td>\n",
       "      <td>Car</td>\n",
       "    </tr>\n",
       "    <tr>\n",
       "      <th>2</th>\n",
       "      <td>150</td>\n",
       "      <td>9.827178</td>\n",
       "      <td>9.804817</td>\n",
       "      <td>9.849262</td>\n",
       "      <td>0.011199</td>\n",
       "      <td>0.001525</td>\n",
       "      <td>0.000000</td>\n",
       "      <td>0.002609</td>\n",
       "      <td>0.000713</td>\n",
       "      <td>0.000000</td>\n",
       "      <td>0.000000</td>\n",
       "      <td>0.000000</td>\n",
       "      <td>0.000000</td>\n",
       "      <td>Still</td>\n",
       "    </tr>\n",
       "    <tr>\n",
       "      <th>3</th>\n",
       "      <td>105</td>\n",
       "      <td>9.673039</td>\n",
       "      <td>7.659674</td>\n",
       "      <td>12.304298</td>\n",
       "      <td>0.862553</td>\n",
       "      <td>0.036440</td>\n",
       "      <td>0.020463</td>\n",
       "      <td>0.052512</td>\n",
       "      <td>0.010553</td>\n",
       "      <td>87.470377</td>\n",
       "      <td>87.470377</td>\n",
       "      <td>87.470377</td>\n",
       "      <td>2.284186</td>\n",
       "      <td>Car</td>\n",
       "    </tr>\n",
       "    <tr>\n",
       "      <th>4</th>\n",
       "      <td>77</td>\n",
       "      <td>9.993466</td>\n",
       "      <td>8.965621</td>\n",
       "      <td>10.891645</td>\n",
       "      <td>0.504117</td>\n",
       "      <td>0.183202</td>\n",
       "      <td>0.020667</td>\n",
       "      <td>0.380875</td>\n",
       "      <td>0.098819</td>\n",
       "      <td>89.770732</td>\n",
       "      <td>89.770732</td>\n",
       "      <td>89.770732</td>\n",
       "      <td>0.006389</td>\n",
       "      <td>Car</td>\n",
       "    </tr>\n",
       "  </tbody>\n",
       "</table>\n",
       "</div>"
      ],
      "text/plain": [
       "   time  androidsensoraccelerometermean  androidsensoraccelerometermin  \\\n",
       "0    78                        9.811476                       9.758895   \n",
       "1   145                        9.939207                       7.707437   \n",
       "2   150                        9.827178                       9.804817   \n",
       "3   105                        9.673039                       7.659674   \n",
       "4    77                        9.993466                       8.965621   \n",
       "\n",
       "   androidsensoraccelerometermax  androidsensoraccelerometerstd  \\\n",
       "0                       9.849411                       0.014626   \n",
       "1                      17.146631                       1.775944   \n",
       "2                       9.849262                       0.011199   \n",
       "3                      12.304298                       0.862553   \n",
       "4                      10.891645                       0.504117   \n",
       "\n",
       "   androidsensorgyroscopemean  androidsensorgyroscopemin  \\\n",
       "0                    0.001651                   0.000000   \n",
       "1                    0.036326                   0.011669   \n",
       "2                    0.001525                   0.000000   \n",
       "3                    0.036440                   0.020463   \n",
       "4                    0.183202                   0.020667   \n",
       "\n",
       "   androidsensorgyroscopemax  androidsensorgyroscopestd  soundmean   soundmin  \\\n",
       "0                   0.003533                   0.000737   0.000000   0.000000   \n",
       "1                   0.059388                   0.020290  89.200210  89.065143   \n",
       "2                   0.002609                   0.000713   0.000000   0.000000   \n",
       "3                   0.052512                   0.010553  87.470377  87.470377   \n",
       "4                   0.380875                   0.098819  89.770732  89.770732   \n",
       "\n",
       "    soundmax  soundstd target  \n",
       "0   0.000000  0.000000  Still  \n",
       "1  89.335277  0.191013    Car  \n",
       "2   0.000000  0.000000  Still  \n",
       "3  87.470377  2.284186    Car  \n",
       "4  89.770732  0.006389    Car  "
      ]
     },
     "execution_count": 1,
     "metadata": {},
     "output_type": "execute_result"
    }
   ],
   "source": [
    "import numpy as np\n",
    "import pandas as pd\n",
    "\n",
    "np.random.seed(42)\n",
    "\n",
    "transportation = pd.read_csv(\"transportation.csv\")\n",
    "transportation.head()"
   ]
  },
  {
   "cell_type": "code",
   "execution_count": 2,
   "metadata": {},
   "outputs": [
    {
     "data": {
      "text/plain": [
       "time                              0\n",
       "androidsensoraccelerometermean    0\n",
       "androidsensoraccelerometermin     0\n",
       "androidsensoraccelerometermax     0\n",
       "androidsensoraccelerometerstd     0\n",
       "androidsensorgyroscopemean        0\n",
       "androidsensorgyroscopemin         0\n",
       "androidsensorgyroscopemax         0\n",
       "androidsensorgyroscopestd         0\n",
       "soundmean                         0\n",
       "soundmin                          0\n",
       "soundmax                          0\n",
       "soundstd                          0\n",
       "target                            0\n",
       "dtype: int64"
      ]
     },
     "execution_count": 2,
     "metadata": {},
     "output_type": "execute_result"
    }
   ],
   "source": [
    "#Check for missing values\n",
    "transportation.isna().sum()"
   ]
  },
  {
   "cell_type": "code",
   "execution_count": 3,
   "metadata": {},
   "outputs": [],
   "source": [
    "#Split into train/test\n",
    "from sklearn.model_selection import train_test_split\n",
    "\n",
    "train, test = train_test_split(transportation, test_size=0.3)"
   ]
  },
  {
   "cell_type": "code",
   "execution_count": 4,
   "metadata": {},
   "outputs": [],
   "source": [
    "from sklearn.compose import ColumnTransformer\n",
    "from sklearn.pipeline import Pipeline\n",
    "from sklearn.impute import SimpleImputer\n",
    "from sklearn.preprocessing import StandardScaler\n",
    "from sklearn.preprocessing import OneHotEncoder\n",
    "\n",
    "#Separate Target Variable\n",
    "train_target = train[['target']]\n",
    "test_target = test[['target']]\n",
    "\n",
    "train_inputs = train.drop(['target'], axis=1)\n",
    "test_inputs = test.drop(['target'], axis=1)"
   ]
  },
  {
   "cell_type": "markdown",
   "metadata": {},
   "source": [
    "### Numeric/Categorical Pipeline"
   ]
  },
  {
   "cell_type": "code",
   "execution_count": 5,
   "metadata": {},
   "outputs": [
    {
     "data": {
      "text/plain": [
       "time                                int64\n",
       "androidsensoraccelerometermean    float64\n",
       "androidsensoraccelerometermin     float64\n",
       "androidsensoraccelerometermax     float64\n",
       "androidsensoraccelerometerstd     float64\n",
       "androidsensorgyroscopemean        float64\n",
       "androidsensorgyroscopemin         float64\n",
       "androidsensorgyroscopemax         float64\n",
       "androidsensorgyroscopestd         float64\n",
       "soundmean                         float64\n",
       "soundmin                          float64\n",
       "soundmax                          float64\n",
       "soundstd                          float64\n",
       "dtype: object"
      ]
     },
     "execution_count": 5,
     "metadata": {},
     "output_type": "execute_result"
    }
   ],
   "source": [
    "train_inputs.dtypes"
   ]
  },
  {
   "cell_type": "code",
   "execution_count": 6,
   "metadata": {},
   "outputs": [
    {
     "data": {
      "text/plain": [
       "Index(['time', 'androidsensoraccelerometermean',\n",
       "       'androidsensoraccelerometermin', 'androidsensoraccelerometermax',\n",
       "       'androidsensoraccelerometerstd', 'androidsensorgyroscopemean',\n",
       "       'androidsensorgyroscopemin', 'androidsensorgyroscopemax',\n",
       "       'androidsensorgyroscopestd', 'soundmean', 'soundmin', 'soundmax',\n",
       "       'soundstd'],\n",
       "      dtype='object')"
      ]
     },
     "execution_count": 6,
     "metadata": {},
     "output_type": "execute_result"
    }
   ],
   "source": [
    "# Identify the numerical columns -**all columns are numeric\n",
    "numeric_columns = train_inputs.select_dtypes(include=[np.number]).columns\n",
    "\n",
    "numeric_columns"
   ]
  },
  {
   "cell_type": "code",
   "execution_count": 7,
   "metadata": {},
   "outputs": [],
   "source": [
    "# Pipeline Operations\n",
    "numeric_transformer = Pipeline(steps=[\n",
    "                #('imputer', SimpleImputer(strategy='median')),\n",
    "                ('scaler', StandardScaler())])\n",
    "\n",
    "preprocessor = ColumnTransformer([\n",
    "        ('num', numeric_transformer, numeric_columns)])"
   ]
  },
  {
   "cell_type": "markdown",
   "metadata": {},
   "source": [
    "### Transform Train and Test"
   ]
  },
  {
   "cell_type": "code",
   "execution_count": 8,
   "metadata": {},
   "outputs": [
    {
     "data": {
      "text/plain": [
       "(4125, 13)"
      ]
     },
     "execution_count": 8,
     "metadata": {},
     "output_type": "execute_result"
    }
   ],
   "source": [
    "#Fit and transform the train data\n",
    "train_x = preprocessor.fit_transform(train_inputs)\n",
    "\n",
    "train_x.shape"
   ]
  },
  {
   "cell_type": "code",
   "execution_count": 9,
   "metadata": {},
   "outputs": [
    {
     "data": {
      "text/plain": [
       "(1768, 13)"
      ]
     },
     "execution_count": 9,
     "metadata": {},
     "output_type": "execute_result"
    }
   ],
   "source": [
    "# Transform the test data\n",
    "test_x = preprocessor.transform(test_inputs)\n",
    "\n",
    "test_x.shape"
   ]
  },
  {
   "cell_type": "markdown",
   "metadata": {},
   "source": [
    "### Determine Baseline Accuracy"
   ]
  },
  {
   "cell_type": "code",
   "execution_count": 10,
   "metadata": {},
   "outputs": [
    {
     "data": {
      "text/plain": [
       "Bus        870\n",
       "Train      838\n",
       "Car        824\n",
       "Still      799\n",
       "Walking    794\n",
       "Name: target, dtype: int64"
      ]
     },
     "execution_count": 10,
     "metadata": {},
     "output_type": "execute_result"
    }
   ],
   "source": [
    "# Find the majority class:\n",
    "train_target['target'].value_counts()"
   ]
  },
  {
   "cell_type": "code",
   "execution_count": 11,
   "metadata": {},
   "outputs": [
    {
     "data": {
      "text/plain": [
       "Bus        0.210909\n",
       "Train      0.203152\n",
       "Car        0.199758\n",
       "Still      0.193697\n",
       "Walking    0.192485\n",
       "Name: target, dtype: float64"
      ]
     },
     "execution_count": 11,
     "metadata": {},
     "output_type": "execute_result"
    }
   ],
   "source": [
    "#Find the percentage of the majority class:\n",
    "train_target['target'].value_counts()/len(train_target)"
   ]
  },
  {
   "cell_type": "markdown",
   "metadata": {},
   "source": [
    "Baseline accuracy predicting Bus is 21.1%"
   ]
  },
  {
   "cell_type": "markdown",
   "metadata": {},
   "source": [
    "### Ordinal Encode Target"
   ]
  },
  {
   "cell_type": "code",
   "execution_count": 12,
   "metadata": {},
   "outputs": [
    {
     "data": {
      "text/plain": [
       "array([[3.],\n",
       "       [1.],\n",
       "       [0.],\n",
       "       ...,\n",
       "       [0.],\n",
       "       [1.],\n",
       "       [2.]])"
      ]
     },
     "execution_count": 12,
     "metadata": {},
     "output_type": "execute_result"
    }
   ],
   "source": [
    "from sklearn.preprocessing import OrdinalEncoder\n",
    "\n",
    "ord_enc = OrdinalEncoder()\n",
    "\n",
    "train_y = ord_enc.fit_transform(train_target)\n",
    "train_y"
   ]
  },
  {
   "cell_type": "code",
   "execution_count": 13,
   "metadata": {},
   "outputs": [
    {
     "data": {
      "text/plain": [
       "array([[0.],\n",
       "       [0.],\n",
       "       [0.],\n",
       "       ...,\n",
       "       [2.],\n",
       "       [3.],\n",
       "       [2.]])"
      ]
     },
     "execution_count": 13,
     "metadata": {},
     "output_type": "execute_result"
    }
   ],
   "source": [
    "test_y = ord_enc.transform(test_target)\n",
    "test_y"
   ]
  },
  {
   "cell_type": "markdown",
   "metadata": {},
   "source": [
    "# Keras DNN model 1"
   ]
  },
  {
   "cell_type": "code",
   "execution_count": 20,
   "metadata": {},
   "outputs": [],
   "source": [
    "import tensorflow as tf\n",
    "from tensorflow import keras\n",
    "\n",
    "tf.random.set_seed(42)\n",
    "\n",
    "#Define multi-class ordinal model\n",
    "model = keras.models.Sequential()\n",
    "\n",
    "#Define input layer - 13 vars\n",
    "model.add(keras.layers.Input(shape=13))\n",
    "\n",
    "#Define hidden layers\n",
    "model.add(keras.layers.Dense(100, activation='relu'))\n",
    "model.add(keras.layers.Dense(100, activation='relu'))\n",
    "model.add(keras.layers.Dense(100, activation='relu'))\n",
    "model.add(keras.layers.Dense(100, activation='relu'))\n",
    "model.add(keras.layers.Dense(100, activation='relu'))\n",
    "\n",
    "#Define output layer: softmax - 5 nodes\n",
    "model.add(keras.layers.Dense(5, activation='softmax'))\n",
    "\n",
    "#Optimizer:\n",
    "adam = keras.optimizers.Adam(lr=0.01)\n",
    "\n",
    "# Compile model\n",
    "model.compile(loss='sparse_categorical_crossentropy', optimizer=adam, metrics=['accuracy'])"
   ]
  },
  {
   "cell_type": "code",
   "execution_count": 21,
   "metadata": {},
   "outputs": [
    {
     "name": "stdout",
     "output_type": "stream",
     "text": [
      "Epoch 1/50\n",
      "5/5 [==============================] - 0s 22ms/step - loss: 1.3823 - accuracy: 0.4337 - val_loss: 1.1499 - val_accuracy: 0.5549\n",
      "Epoch 2/50\n",
      "5/5 [==============================] - 0s 7ms/step - loss: 1.0985 - accuracy: 0.5661 - val_loss: 0.9984 - val_accuracy: 0.6018\n",
      "Epoch 3/50\n",
      "5/5 [==============================] - 0s 6ms/step - loss: 0.9775 - accuracy: 0.6000 - val_loss: 0.9383 - val_accuracy: 0.6312\n",
      "Epoch 4/50\n",
      "5/5 [==============================] - 0s 6ms/step - loss: 0.9072 - accuracy: 0.6301 - val_loss: 0.8523 - val_accuracy: 0.6686\n",
      "Epoch 5/50\n",
      "5/5 [==============================] - 0s 6ms/step - loss: 0.8578 - accuracy: 0.6514 - val_loss: 0.8480 - val_accuracy: 0.6629\n",
      "Epoch 6/50\n",
      "5/5 [==============================] - 0s 6ms/step - loss: 0.8319 - accuracy: 0.6693 - val_loss: 0.7991 - val_accuracy: 0.6816\n",
      "Epoch 7/50\n",
      "5/5 [==============================] - 0s 6ms/step - loss: 0.7965 - accuracy: 0.6742 - val_loss: 0.7920 - val_accuracy: 0.6765\n",
      "Epoch 8/50\n",
      "5/5 [==============================] - 0s 6ms/step - loss: 0.7824 - accuracy: 0.6810 - val_loss: 0.7457 - val_accuracy: 0.7081\n",
      "Epoch 9/50\n",
      "5/5 [==============================] - 0s 6ms/step - loss: 0.7520 - accuracy: 0.6924 - val_loss: 0.7262 - val_accuracy: 0.7268\n",
      "Epoch 10/50\n",
      "5/5 [==============================] - 0s 6ms/step - loss: 0.7106 - accuracy: 0.7212 - val_loss: 0.7230 - val_accuracy: 0.7183\n",
      "Epoch 11/50\n",
      "5/5 [==============================] - 0s 6ms/step - loss: 0.6961 - accuracy: 0.7193 - val_loss: 0.6775 - val_accuracy: 0.7364\n",
      "Epoch 12/50\n",
      "5/5 [==============================] - 0s 6ms/step - loss: 0.6618 - accuracy: 0.7326 - val_loss: 0.6687 - val_accuracy: 0.7245\n",
      "Epoch 13/50\n",
      "5/5 [==============================] - 0s 6ms/step - loss: 0.6444 - accuracy: 0.7379 - val_loss: 0.6292 - val_accuracy: 0.7647\n",
      "Epoch 14/50\n",
      "5/5 [==============================] - 0s 7ms/step - loss: 0.6296 - accuracy: 0.7552 - val_loss: 0.6466 - val_accuracy: 0.7624\n",
      "Epoch 15/50\n",
      "5/5 [==============================] - 0s 6ms/step - loss: 0.6048 - accuracy: 0.7612 - val_loss: 0.6310 - val_accuracy: 0.7715\n",
      "Epoch 16/50\n",
      "5/5 [==============================] - 0s 6ms/step - loss: 0.5986 - accuracy: 0.7624 - val_loss: 0.6188 - val_accuracy: 0.7664\n",
      "Epoch 17/50\n",
      "5/5 [==============================] - 0s 6ms/step - loss: 0.6000 - accuracy: 0.7588 - val_loss: 0.6518 - val_accuracy: 0.7415\n",
      "Epoch 18/50\n",
      "5/5 [==============================] - 0s 6ms/step - loss: 0.6087 - accuracy: 0.7612 - val_loss: 0.6248 - val_accuracy: 0.7517\n",
      "Epoch 19/50\n",
      "5/5 [==============================] - 0s 6ms/step - loss: 0.5912 - accuracy: 0.7646 - val_loss: 0.6194 - val_accuracy: 0.7692\n",
      "Epoch 20/50\n",
      "5/5 [==============================] - 0s 7ms/step - loss: 0.5752 - accuracy: 0.7748 - val_loss: 0.6010 - val_accuracy: 0.7704\n",
      "Epoch 21/50\n",
      "5/5 [==============================] - 0s 6ms/step - loss: 0.5673 - accuracy: 0.7709 - val_loss: 0.6577 - val_accuracy: 0.7647\n",
      "Epoch 22/50\n",
      "5/5 [==============================] - 0s 6ms/step - loss: 0.5687 - accuracy: 0.7697 - val_loss: 0.5793 - val_accuracy: 0.7834\n",
      "Epoch 23/50\n",
      "5/5 [==============================] - 0s 6ms/step - loss: 0.5364 - accuracy: 0.7905 - val_loss: 0.6035 - val_accuracy: 0.7766\n",
      "Epoch 24/50\n",
      "5/5 [==============================] - 0s 6ms/step - loss: 0.5621 - accuracy: 0.7833 - val_loss: 0.5914 - val_accuracy: 0.7890\n",
      "Epoch 25/50\n",
      "5/5 [==============================] - 0s 6ms/step - loss: 0.5486 - accuracy: 0.7859 - val_loss: 0.6112 - val_accuracy: 0.7890\n",
      "Epoch 26/50\n",
      "5/5 [==============================] - 0s 7ms/step - loss: 0.5622 - accuracy: 0.7796 - val_loss: 0.5999 - val_accuracy: 0.7890\n",
      "Epoch 27/50\n",
      "5/5 [==============================] - 0s 6ms/step - loss: 0.5238 - accuracy: 0.7913 - val_loss: 0.5965 - val_accuracy: 0.7647\n",
      "Epoch 28/50\n",
      "5/5 [==============================] - 0s 6ms/step - loss: 0.5152 - accuracy: 0.7901 - val_loss: 0.5989 - val_accuracy: 0.7664\n",
      "Epoch 29/50\n",
      "5/5 [==============================] - 0s 6ms/step - loss: 0.5074 - accuracy: 0.7973 - val_loss: 0.6364 - val_accuracy: 0.7721\n",
      "Epoch 30/50\n",
      "5/5 [==============================] - 0s 6ms/step - loss: 0.5260 - accuracy: 0.7869 - val_loss: 0.5857 - val_accuracy: 0.7947\n",
      "Epoch 31/50\n",
      "5/5 [==============================] - 0s 6ms/step - loss: 0.5468 - accuracy: 0.7942 - val_loss: 0.5795 - val_accuracy: 0.7896\n",
      "Epoch 32/50\n",
      "5/5 [==============================] - 0s 6ms/step - loss: 0.5088 - accuracy: 0.7968 - val_loss: 0.5526 - val_accuracy: 0.7919\n",
      "Epoch 33/50\n",
      "5/5 [==============================] - 0s 6ms/step - loss: 0.4914 - accuracy: 0.8012 - val_loss: 0.5478 - val_accuracy: 0.8043\n",
      "Epoch 34/50\n",
      "5/5 [==============================] - 0s 6ms/step - loss: 0.4723 - accuracy: 0.8145 - val_loss: 0.5878 - val_accuracy: 0.7890\n",
      "Epoch 35/50\n",
      "5/5 [==============================] - 0s 6ms/step - loss: 0.4718 - accuracy: 0.8179 - val_loss: 0.6280 - val_accuracy: 0.7760\n",
      "Epoch 36/50\n",
      "5/5 [==============================] - 0s 6ms/step - loss: 0.4887 - accuracy: 0.8061 - val_loss: 0.5587 - val_accuracy: 0.7964\n",
      "Epoch 37/50\n",
      "5/5 [==============================] - 0s 6ms/step - loss: 0.4673 - accuracy: 0.8228 - val_loss: 0.5707 - val_accuracy: 0.7998\n",
      "Epoch 38/50\n",
      "5/5 [==============================] - 0s 6ms/step - loss: 0.4503 - accuracy: 0.8240 - val_loss: 0.5723 - val_accuracy: 0.7975\n",
      "Epoch 39/50\n",
      "5/5 [==============================] - 0s 6ms/step - loss: 0.4371 - accuracy: 0.8301 - val_loss: 0.5583 - val_accuracy: 0.8083\n",
      "Epoch 40/50\n",
      "5/5 [==============================] - 0s 6ms/step - loss: 0.4211 - accuracy: 0.8349 - val_loss: 0.5835 - val_accuracy: 0.7919\n",
      "Epoch 41/50\n",
      "5/5 [==============================] - 0s 6ms/step - loss: 0.4213 - accuracy: 0.8385 - val_loss: 0.5794 - val_accuracy: 0.7924\n",
      "Epoch 42/50\n",
      "5/5 [==============================] - 0s 6ms/step - loss: 0.4180 - accuracy: 0.8371 - val_loss: 0.5913 - val_accuracy: 0.7986\n",
      "Epoch 43/50\n",
      "5/5 [==============================] - 0s 6ms/step - loss: 0.4416 - accuracy: 0.8247 - val_loss: 0.5712 - val_accuracy: 0.7907\n",
      "Epoch 44/50\n",
      "5/5 [==============================] - 0s 6ms/step - loss: 0.4188 - accuracy: 0.8402 - val_loss: 0.5981 - val_accuracy: 0.7952\n",
      "Epoch 45/50\n",
      "5/5 [==============================] - 0s 6ms/step - loss: 0.4180 - accuracy: 0.8356 - val_loss: 0.6023 - val_accuracy: 0.8026\n",
      "Epoch 46/50\n",
      "5/5 [==============================] - 0s 7ms/step - loss: 0.4018 - accuracy: 0.8402 - val_loss: 0.5710 - val_accuracy: 0.8032\n",
      "Epoch 47/50\n",
      "5/5 [==============================] - 0s 6ms/step - loss: 0.4163 - accuracy: 0.8383 - val_loss: 0.6122 - val_accuracy: 0.8100\n",
      "Epoch 48/50\n",
      "5/5 [==============================] - 0s 6ms/step - loss: 0.3974 - accuracy: 0.8516 - val_loss: 0.5468 - val_accuracy: 0.8094\n",
      "Epoch 49/50\n",
      "5/5 [==============================] - 0s 6ms/step - loss: 0.3652 - accuracy: 0.8594 - val_loss: 0.5484 - val_accuracy: 0.8150\n",
      "Epoch 50/50\n",
      "5/5 [==============================] - 0s 6ms/step - loss: 0.3749 - accuracy: 0.8507 - val_loss: 0.6357 - val_accuracy: 0.8060\n"
     ]
    }
   ],
   "source": [
    "# Fit the model\n",
    "history = model.fit(train_x, train_y, validation_data=(test_x, test_y), epochs=50, batch_size=1000)"
   ]
  },
  {
   "cell_type": "code",
   "execution_count": 22,
   "metadata": {},
   "outputs": [
    {
     "data": {
      "text/plain": [
       "[0.6357447504997253, 0.8059954643249512]"
      ]
     },
     "execution_count": 22,
     "metadata": {},
     "output_type": "execute_result"
    }
   ],
   "source": [
    "# Evaluate the model\n",
    "scores = model.evaluate(test_x, test_y, verbose=0)\n",
    "scores\n",
    "\n",
    "#first # is loss, second # is accuracy"
   ]
  },
  {
   "cell_type": "code",
   "execution_count": 23,
   "metadata": {},
   "outputs": [
    {
     "name": "stdout",
     "output_type": "stream",
     "text": [
      "loss: 0.64\n",
      "accuracy: 80.60%\n"
     ]
    }
   ],
   "source": [
    "# extract the accuracy from model.evaluate\n",
    "print(\"%s: %.2f\" % (model.metrics_names[0], scores[0]))\n",
    "print(\"%s: %.2f%%\" % (model.metrics_names[1], scores[1]*100))"
   ]
  },
  {
   "cell_type": "markdown",
   "metadata": {},
   "source": [
    "# Keras DNN model 2"
   ]
  },
  {
   "cell_type": "code",
   "execution_count": 117,
   "metadata": {},
   "outputs": [],
   "source": [
    "#Set learning rate\n",
    "lr=0.001\n",
    "\n",
    "#Available optimizers\n",
    "adagrad = keras.optimizers.Adagrad(lr=lr, epsilon=None, decay=0.0)\n",
    "sgd = keras.optimizers.SGD(lr=lr, momentum=0.0, decay=0.0, nesterov=False)\n",
    "rmsprop = keras.optimizers.RMSprop(lr=lr, rho=0.9, epsilon=None, decay=0.0)\n",
    "adam = keras.optimizers.Adam(lr=lr, beta_1=0.9, beta_2=0.999, epsilon=None, decay=0.0, amsgrad=False)\n",
    "nesterov_adam = keras.optimizers.Nadam(lr=lr, beta_1=0.9, beta_2=0.999, epsilon=None, schedule_decay=0.004)\n",
    "\n",
    "#Initializers\n",
    "xavier = keras.initializers.glorot_normal(seed=None)\n",
    "he = keras.initializers.he_normal(seed=None)\n",
    "\n",
    "# Activation functions\n",
    "activation = 'elu' \n",
    "#activation = 'relu'\n",
    "#activation = 'tanh'\n",
    "#activation = 'sigmoid'\n",
    "\n",
    "#define input layer\n",
    "input1 = keras.layers.Input(shape=13)\n",
    "\n",
    "#define hidden and dropout layers\n",
    "hidden1 = keras.layers.Dense(100, activation=activation, kernel_initializer=he)(input1)\n",
    "drop1   = keras.layers.Dropout(0.2)(hidden1)\n",
    "hidden2 = keras.layers.Dense(100, activation=activation, kernel_initializer=he)(drop1)\n",
    "drop2   = keras.layers.Dropout(0.2)(hidden2)\n",
    "hidden3 = keras.layers.Dense(100, activation=activation, kernel_initializer=he)(drop2)\n",
    "hidden4 = keras.layers.Dense(100, activation=activation, kernel_initializer=he)(hidden3)\n",
    "hidden5 = keras.layers.Dense(100, activation=activation, kernel_initializer=he)(hidden4)\n",
    "\n",
    "#define output layer - softmax 5 nodes\n",
    "output = keras.layers.Dense(5, activation='softmax')(hidden5)\n",
    "\n",
    "#compile model\n",
    "model = keras.Model(inputs = input1, outputs = output)\n",
    "\n",
    "model.compile(loss='sparse_categorical_crossentropy', \n",
    "              optimizer=nesterov_adam, metrics=['accuracy'])"
   ]
  },
  {
   "cell_type": "code",
   "execution_count": 118,
   "metadata": {},
   "outputs": [
    {
     "name": "stdout",
     "output_type": "stream",
     "text": [
      "Epoch 1/50\n",
      "42/42 [==============================] - 0s 5ms/step - loss: 1.4205 - accuracy: 0.4795 - val_loss: 0.9712 - val_accuracy: 0.6318\n",
      "Epoch 2/50\n",
      "42/42 [==============================] - 0s 3ms/step - loss: 1.0515 - accuracy: 0.5748 - val_loss: 0.9233 - val_accuracy: 0.6239\n",
      "Epoch 3/50\n",
      "42/42 [==============================] - 0s 3ms/step - loss: 0.9901 - accuracy: 0.5944 - val_loss: 0.8733 - val_accuracy: 0.6669\n",
      "Epoch 4/50\n",
      "42/42 [==============================] - 0s 3ms/step - loss: 0.9580 - accuracy: 0.6097 - val_loss: 0.8427 - val_accuracy: 0.6606\n",
      "Epoch 5/50\n",
      "42/42 [==============================] - 0s 3ms/step - loss: 0.9273 - accuracy: 0.6213 - val_loss: 0.7944 - val_accuracy: 0.6821\n",
      "Epoch 6/50\n",
      "42/42 [==============================] - 0s 3ms/step - loss: 0.9035 - accuracy: 0.6320 - val_loss: 0.7905 - val_accuracy: 0.6793\n",
      "Epoch 7/50\n",
      "42/42 [==============================] - 0s 3ms/step - loss: 0.8598 - accuracy: 0.6521 - val_loss: 0.7673 - val_accuracy: 0.6776\n",
      "Epoch 8/50\n",
      "42/42 [==============================] - 0s 3ms/step - loss: 0.8511 - accuracy: 0.6560 - val_loss: 0.8032 - val_accuracy: 0.7002\n",
      "Epoch 9/50\n",
      "42/42 [==============================] - 0s 3ms/step - loss: 0.8458 - accuracy: 0.6565 - val_loss: 0.7024 - val_accuracy: 0.7274\n",
      "Epoch 10/50\n",
      "42/42 [==============================] - 0s 3ms/step - loss: 0.8106 - accuracy: 0.6684 - val_loss: 0.7419 - val_accuracy: 0.7014\n",
      "Epoch 11/50\n",
      "42/42 [==============================] - 0s 3ms/step - loss: 0.8058 - accuracy: 0.6776 - val_loss: 0.7188 - val_accuracy: 0.7031\n",
      "Epoch 12/50\n",
      "42/42 [==============================] - 0s 3ms/step - loss: 0.7798 - accuracy: 0.6761 - val_loss: 0.7626 - val_accuracy: 0.6889\n",
      "Epoch 13/50\n",
      "42/42 [==============================] - 0s 3ms/step - loss: 0.7715 - accuracy: 0.6938 - val_loss: 0.6830 - val_accuracy: 0.7212\n",
      "Epoch 14/50\n",
      "42/42 [==============================] - 0s 3ms/step - loss: 0.7441 - accuracy: 0.7011 - val_loss: 0.6672 - val_accuracy: 0.7364\n",
      "Epoch 15/50\n",
      "42/42 [==============================] - 0s 3ms/step - loss: 0.7385 - accuracy: 0.7001 - val_loss: 0.6595 - val_accuracy: 0.7506\n",
      "Epoch 16/50\n",
      "42/42 [==============================] - 0s 3ms/step - loss: 0.7371 - accuracy: 0.6979 - val_loss: 0.6648 - val_accuracy: 0.7325\n",
      "Epoch 17/50\n",
      "42/42 [==============================] - 0s 3ms/step - loss: 0.7243 - accuracy: 0.7086 - val_loss: 0.6341 - val_accuracy: 0.7477\n",
      "Epoch 18/50\n",
      "42/42 [==============================] - 0s 3ms/step - loss: 0.7094 - accuracy: 0.7173 - val_loss: 0.6181 - val_accuracy: 0.7426\n",
      "Epoch 19/50\n",
      "42/42 [==============================] - 0s 3ms/step - loss: 0.6982 - accuracy: 0.7253 - val_loss: 0.6891 - val_accuracy: 0.7149\n",
      "Epoch 20/50\n",
      "42/42 [==============================] - 0s 3ms/step - loss: 0.6983 - accuracy: 0.7241 - val_loss: 0.6454 - val_accuracy: 0.7415\n",
      "Epoch 21/50\n",
      "42/42 [==============================] - 0s 3ms/step - loss: 0.6789 - accuracy: 0.7244 - val_loss: 0.6057 - val_accuracy: 0.7619\n",
      "Epoch 22/50\n",
      "42/42 [==============================] - 0s 3ms/step - loss: 0.6728 - accuracy: 0.7382 - val_loss: 0.5940 - val_accuracy: 0.7709\n",
      "Epoch 23/50\n",
      "42/42 [==============================] - 0s 3ms/step - loss: 0.6575 - accuracy: 0.7396 - val_loss: 0.5767 - val_accuracy: 0.7766\n",
      "Epoch 24/50\n",
      "42/42 [==============================] - 0s 3ms/step - loss: 0.6479 - accuracy: 0.7462 - val_loss: 0.5943 - val_accuracy: 0.7732\n",
      "Epoch 25/50\n",
      "42/42 [==============================] - 0s 3ms/step - loss: 0.6451 - accuracy: 0.7370 - val_loss: 0.6323 - val_accuracy: 0.7557\n",
      "Epoch 26/50\n",
      "42/42 [==============================] - 0s 3ms/step - loss: 0.6449 - accuracy: 0.7438 - val_loss: 0.5699 - val_accuracy: 0.7755\n",
      "Epoch 27/50\n",
      "42/42 [==============================] - 0s 3ms/step - loss: 0.6332 - accuracy: 0.7481 - val_loss: 0.6402 - val_accuracy: 0.7449\n",
      "Epoch 28/50\n",
      "42/42 [==============================] - 0s 3ms/step - loss: 0.6301 - accuracy: 0.7442 - val_loss: 0.6064 - val_accuracy: 0.7596\n",
      "Epoch 29/50\n",
      "42/42 [==============================] - 0s 3ms/step - loss: 0.6327 - accuracy: 0.7457 - val_loss: 0.5713 - val_accuracy: 0.7817\n",
      "Epoch 30/50\n",
      "42/42 [==============================] - 0s 3ms/step - loss: 0.6119 - accuracy: 0.7571 - val_loss: 0.5598 - val_accuracy: 0.7755\n",
      "Epoch 31/50\n",
      "42/42 [==============================] - 0s 3ms/step - loss: 0.6064 - accuracy: 0.7501 - val_loss: 0.5344 - val_accuracy: 0.8032\n",
      "Epoch 32/50\n",
      "42/42 [==============================] - 0s 3ms/step - loss: 0.5933 - accuracy: 0.7687 - val_loss: 0.5555 - val_accuracy: 0.7890\n",
      "Epoch 33/50\n",
      "42/42 [==============================] - 0s 3ms/step - loss: 0.5893 - accuracy: 0.7632 - val_loss: 0.5460 - val_accuracy: 0.7902\n",
      "Epoch 34/50\n",
      "42/42 [==============================] - 0s 3ms/step - loss: 0.5909 - accuracy: 0.7656 - val_loss: 0.5619 - val_accuracy: 0.7947\n",
      "Epoch 35/50\n",
      "42/42 [==============================] - 0s 3ms/step - loss: 0.5832 - accuracy: 0.7678 - val_loss: 0.5599 - val_accuracy: 0.7879\n",
      "Epoch 36/50\n",
      "42/42 [==============================] - 0s 3ms/step - loss: 0.5696 - accuracy: 0.7772 - val_loss: 0.5326 - val_accuracy: 0.8009\n",
      "Epoch 37/50\n",
      "42/42 [==============================] - 0s 2ms/step - loss: 0.5756 - accuracy: 0.7702 - val_loss: 0.5333 - val_accuracy: 0.7856\n",
      "Epoch 38/50\n",
      "42/42 [==============================] - 0s 3ms/step - loss: 0.5656 - accuracy: 0.7743 - val_loss: 0.5054 - val_accuracy: 0.8128\n",
      "Epoch 39/50\n",
      "42/42 [==============================] - 0s 3ms/step - loss: 0.5530 - accuracy: 0.7777 - val_loss: 0.5311 - val_accuracy: 0.8043\n",
      "Epoch 40/50\n",
      "42/42 [==============================] - 0s 3ms/step - loss: 0.5641 - accuracy: 0.7753 - val_loss: 0.5418 - val_accuracy: 0.7873\n",
      "Epoch 41/50\n",
      "42/42 [==============================] - 0s 3ms/step - loss: 0.5585 - accuracy: 0.7777 - val_loss: 0.5694 - val_accuracy: 0.7856\n",
      "Epoch 42/50\n",
      "42/42 [==============================] - 0s 3ms/step - loss: 0.5481 - accuracy: 0.7806 - val_loss: 0.5570 - val_accuracy: 0.7907\n",
      "Epoch 43/50\n",
      "42/42 [==============================] - ETA: 0s - loss: 0.5257 - accuracy: 0.79 - 0s 3ms/step - loss: 0.5475 - accuracy: 0.7845 - val_loss: 0.5204 - val_accuracy: 0.8003\n",
      "Epoch 44/50\n",
      "42/42 [==============================] - 0s 3ms/step - loss: 0.5245 - accuracy: 0.7881 - val_loss: 0.5036 - val_accuracy: 0.8128\n",
      "Epoch 45/50\n",
      "42/42 [==============================] - 0s 3ms/step - loss: 0.5347 - accuracy: 0.7850 - val_loss: 0.5173 - val_accuracy: 0.7986\n",
      "Epoch 46/50\n",
      "42/42 [==============================] - 0s 3ms/step - loss: 0.5252 - accuracy: 0.7930 - val_loss: 0.5438 - val_accuracy: 0.7885\n",
      "Epoch 47/50\n",
      "42/42 [==============================] - 0s 3ms/step - loss: 0.5284 - accuracy: 0.7918 - val_loss: 0.5054 - val_accuracy: 0.8032\n",
      "Epoch 48/50\n",
      "42/42 [==============================] - 0s 3ms/step - loss: 0.5105 - accuracy: 0.8036 - val_loss: 0.5348 - val_accuracy: 0.7975\n",
      "Epoch 49/50\n",
      "42/42 [==============================] - 0s 3ms/step - loss: 0.5135 - accuracy: 0.7983 - val_loss: 0.5165 - val_accuracy: 0.8020\n",
      "Epoch 50/50\n",
      "42/42 [==============================] - 0s 3ms/step - loss: 0.5121 - accuracy: 0.7942 - val_loss: 0.5108 - val_accuracy: 0.8066\n"
     ]
    }
   ],
   "source": [
    "# Fit the model\n",
    "history = model.fit(train_x, train_y, validation_data=(test_x, test_y), epochs=50, batch_size=100)"
   ]
  },
  {
   "cell_type": "code",
   "execution_count": 119,
   "metadata": {},
   "outputs": [
    {
     "data": {
      "text/plain": [
       "[0.5107569098472595, 0.8065611124038696]"
      ]
     },
     "execution_count": 119,
     "metadata": {},
     "output_type": "execute_result"
    }
   ],
   "source": [
    "# Evaluate the model\n",
    "scores = model.evaluate(test_x, test_y, verbose=0)\n",
    "scores"
   ]
  },
  {
   "cell_type": "code",
   "execution_count": 120,
   "metadata": {
    "scrolled": true
   },
   "outputs": [
    {
     "name": "stdout",
     "output_type": "stream",
     "text": [
      "loss: 0.51\n",
      "accuracy: 80.66%\n"
     ]
    }
   ],
   "source": [
    "# extract the accuracy from model.evaluate\n",
    "print(\"%s: %.2f\" % (model.metrics_names[0], scores[0]))\n",
    "print(\"%s: %.2f%%\" % (model.metrics_names[1], scores[1]*100))"
   ]
  },
  {
   "cell_type": "markdown",
   "metadata": {},
   "source": [
    "# MLPClassifier (for comparison purposes)"
   ]
  },
  {
   "cell_type": "code",
   "execution_count": 114,
   "metadata": {},
   "outputs": [
    {
     "name": "stderr",
     "output_type": "stream",
     "text": [
      "C:\\ProgramData\\Anaconda3\\lib\\site-packages\\sklearn\\utils\\validation.py:73: DataConversionWarning: A column-vector y was passed when a 1d array was expected. Please change the shape of y to (n_samples, ), for example using ravel().\n",
      "  return f(**kwargs)\n"
     ]
    },
    {
     "data": {
      "text/plain": [
       "MLPClassifier(alpha=0.1, hidden_layer_sizes=(50, 50, 50, 50), max_iter=1000)"
      ]
     },
     "execution_count": 114,
     "metadata": {},
     "output_type": "execute_result"
    }
   ],
   "source": [
    "from sklearn.neural_network import MLPClassifier\n",
    "from sklearn.metrics import accuracy_score\n",
    "from sklearn.metrics import confusion_matrix\n",
    "from matplotlib import pyplot as plt\n",
    "\n",
    "mlp1 = MLPClassifier(hidden_layer_sizes=(50,50,50,50), \n",
    "                     max_iter=1000,   \n",
    "                     solver='adam',\n",
    "                     alpha=.1\n",
    "                     )\n",
    "\n",
    "mlp1.fit(train_x, train_y)"
   ]
  },
  {
   "cell_type": "code",
   "execution_count": 115,
   "metadata": {},
   "outputs": [
    {
     "data": {
      "text/plain": [
       "0.9275151515151515"
      ]
     },
     "execution_count": 115,
     "metadata": {},
     "output_type": "execute_result"
    }
   ],
   "source": [
    "#Predict the train values\n",
    "train_y_pred = mlp1.predict(train_x)\n",
    "\n",
    "#Train accuracy\n",
    "accuracy_score(train_y, train_y_pred)"
   ]
  },
  {
   "cell_type": "code",
   "execution_count": 116,
   "metadata": {},
   "outputs": [
    {
     "data": {
      "text/plain": [
       "0.8410633484162896"
      ]
     },
     "execution_count": 116,
     "metadata": {},
     "output_type": "execute_result"
    }
   ],
   "source": [
    "#Predict the test values\n",
    "test_y_pred = mlp1.predict(test_x)\n",
    "\n",
    "#Test accuracy\n",
    "accuracy_score(test_y, test_y_pred)"
   ]
  },
  {
   "cell_type": "raw",
   "metadata": {},
   "source": [
    "Of the models, the best is acually the MLPClassifier neural network. It achieves an 84.41% accuracy while the DNN models only achieve 80.60 and 80.66. There was some overfitting in the first DNN model, so adding 2 dropout layers in the second DNN mdoel was able to reduce it. In the MLPClassifier, the alpha term of .1 was able to reduce some overfitting."
   ]
  }
 ],
 "metadata": {
  "kernelspec": {
   "display_name": "Python 3",
   "language": "python",
   "name": "python3"
  },
  "language_info": {
   "codemirror_mode": {
    "name": "ipython",
    "version": 3
   },
   "file_extension": ".py",
   "mimetype": "text/x-python",
   "name": "python",
   "nbconvert_exporter": "python",
   "pygments_lexer": "ipython3",
   "version": "3.8.3"
  }
 },
 "nbformat": 4,
 "nbformat_minor": 2
}
